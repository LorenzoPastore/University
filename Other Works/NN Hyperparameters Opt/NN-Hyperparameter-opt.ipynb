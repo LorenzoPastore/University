{
 "cells": [
  {
   "cell_type": "markdown",
   "metadata": {
    "colab_type": "text",
    "id": "ScY_LMVSh2BY"
   },
   "source": [
    "# NN hyperparameters opt- Lorenzo Pastore"
   ]
  },
  {
   "cell_type": "markdown",
   "metadata": {
    "colab_type": "text",
    "id": "9ds6Hb-t2hlk"
   },
   "source": [
    "### Libraries"
   ]
  },
  {
   "cell_type": "code",
   "execution_count": 1,
   "metadata": {
    "colab": {
     "base_uri": "https://localhost:8080/",
     "height": 1000
    },
    "colab_type": "code",
    "id": "jNtyUQ05pGUQ",
    "outputId": "268bd7b4-def4-4577-b850-b4f484718c76"
   },
   "outputs": [
    {
     "name": "stdout",
     "output_type": "stream",
     "text": [
      "Reading package lists... Done\n",
      "Building dependency tree       \n",
      "Reading state information... Done\n",
      "The following packages were automatically installed and are no longer required:\n",
      "  cuda-cufft-10-1 cuda-cufft-dev-10-1 cuda-curand-10-1 cuda-curand-dev-10-1\n",
      "  cuda-cusolver-10-1 cuda-cusolver-dev-10-1 cuda-cusparse-10-1\n",
      "  cuda-cusparse-dev-10-1 cuda-npp-10-1 cuda-npp-dev-10-1 cuda-nsight-10-1\n",
      "  cuda-nsight-compute-10-1 cuda-nsight-systems-10-1 cuda-nvgraph-10-1\n",
      "  cuda-nvgraph-dev-10-1 cuda-nvjpeg-10-1 cuda-nvjpeg-dev-10-1 cuda-nvrtc-10-1\n",
      "  cuda-nvrtc-dev-10-1 cuda-nvvp-10-1 libnvidia-common-430\n",
      "  nsight-compute-2019.5.0 nsight-systems-2019.5.2\n",
      "Use 'apt autoremove' to remove them.\n",
      "The following additional packages will be installed:\n",
      "  swig3.0\n",
      "Suggested packages:\n",
      "  swig-doc swig-examples swig3.0-examples swig3.0-doc\n",
      "The following NEW packages will be installed:\n",
      "  swig swig3.0\n",
      "0 upgraded, 2 newly installed, 0 to remove and 6 not upgraded.\n",
      "Need to get 1,100 kB of archives.\n",
      "After this operation, 5,822 kB of additional disk space will be used.\n",
      "Get:1 http://archive.ubuntu.com/ubuntu bionic/universe amd64 swig3.0 amd64 3.0.12-1 [1,094 kB]\n",
      "Get:2 http://archive.ubuntu.com/ubuntu bionic/universe amd64 swig amd64 3.0.12-1 [6,460 B]\n",
      "Fetched 1,100 kB in 2s (446 kB/s)\n",
      "Selecting previously unselected package swig3.0.\n",
      "(Reading database ... 135706 files and directories currently installed.)\n",
      "Preparing to unpack .../swig3.0_3.0.12-1_amd64.deb ...\n",
      "Unpacking swig3.0 (3.0.12-1) ...\n",
      "Selecting previously unselected package swig.\n",
      "Preparing to unpack .../swig_3.0.12-1_amd64.deb ...\n",
      "Unpacking swig (3.0.12-1) ...\n",
      "Setting up swig3.0 (3.0.12-1) ...\n",
      "Setting up swig (3.0.12-1) ...\n",
      "Processing triggers for man-db (2.8.3-2ubuntu0.1) ...\n",
      "Collecting smac[all]\n",
      "\u001b[?25l  Downloading https://files.pythonhosted.org/packages/01/b7/b4d720b5eb7c705bab5b243fc38a60ca9bbc151cc09872b7e9e0a316581d/smac-0.11.1.tar.gz (161kB)\n",
      "\u001b[K     |████████████████████████████████| 163kB 2.8MB/s \n",
      "\u001b[?25hRequirement already satisfied: numpy>=1.7.1 in /usr/local/lib/python3.6/dist-packages (from smac[all]) (1.17.4)\n",
      "Requirement already satisfied: scipy>=0.18.1 in /usr/local/lib/python3.6/dist-packages (from smac[all]) (1.3.3)\n",
      "Requirement already satisfied: psutil in /usr/local/lib/python3.6/dist-packages (from smac[all]) (5.4.8)\n",
      "Collecting pynisher>=0.4.1\n",
      "  Downloading https://files.pythonhosted.org/packages/b2/21/c86c64c305da6d43fb89780d33cbc839c07736b71955a8bdb642a02b7538/pynisher-0.5.0.tar.gz\n",
      "Collecting ConfigSpace<0.5,>=0.4.6\n",
      "\u001b[?25l  Downloading https://files.pythonhosted.org/packages/be/07/ebb7c6c6d03c82ffe6314161f2c8da32599c841e74b08f5c23812fee0e6f/ConfigSpace-0.4.11.tar.gz (957kB)\n",
      "\u001b[K     |████████████████████████████████| 962kB 44.7MB/s \n",
      "\u001b[?25hRequirement already satisfied: scikit-learn>=0.18.0 in /usr/local/lib/python3.6/dist-packages (from smac[all]) (0.21.3)\n",
      "Collecting pyrfr>=0.8.0\n",
      "\u001b[?25l  Downloading https://files.pythonhosted.org/packages/ed/0f/4d7e42a9dfef3a1898e03cffa8f1cfcd1f96507d718808b2db584c6f8401/pyrfr-0.8.0.tar.gz (293kB)\n",
      "\u001b[K     |████████████████████████████████| 296kB 46.8MB/s \n",
      "\u001b[?25hCollecting sobol_seq\n",
      "  Downloading https://files.pythonhosted.org/packages/89/7a/7b374fd1f100bfea2624190f3dd879029e1aabe70d34e279ef456d522717/sobol_seq-0.1.2.zip\n",
      "Requirement already satisfied: joblib in /usr/local/lib/python3.6/dist-packages (from smac[all]) (0.14.0)\n",
      "Collecting lazy_import\n",
      "  Downloading https://files.pythonhosted.org/packages/44/2e/5378f9b9cbc893826c2ecb022646c97ece9efbaad351adf89425fff33990/lazy_import-0.2.2.tar.gz\n",
      "Collecting pyDOE\n",
      "  Downloading https://files.pythonhosted.org/packages/bc/ac/91fe4c039e2744466621343d3b8af4a485193ed0aab53af5b1db03be0989/pyDOE-0.3.8.zip\n",
      "Collecting scikit-optimize\n",
      "\u001b[?25l  Downloading https://files.pythonhosted.org/packages/f4/44/60f82c97d1caa98752c7da2c1681cab5c7a390a0fdd3a55fac672b321cac/scikit_optimize-0.5.2-py2.py3-none-any.whl (74kB)\n",
      "\u001b[K     |████████████████████████████████| 81kB 9.0MB/s \n",
      "\u001b[?25hCollecting emcee>=2.1.0\n",
      "\u001b[?25l  Downloading https://files.pythonhosted.org/packages/97/f4/00151f5f843088337c6a53edd6cbb2df340f1044d23080c662f95219cc3f/emcee-3.0.2-py2.py3-none-any.whl (41kB)\n",
      "\u001b[K     |████████████████████████████████| 51kB 7.0MB/s \n",
      "\u001b[?25hRequirement already satisfied: docutils>=0.3 in /usr/local/lib/python3.6/dist-packages (from pynisher>=0.4.1->smac[all]) (0.15.2)\n",
      "Requirement already satisfied: setuptools in /usr/local/lib/python3.6/dist-packages (from pynisher>=0.4.1->smac[all]) (42.0.2)\n",
      "Requirement already satisfied: cython in /usr/local/lib/python3.6/dist-packages (from ConfigSpace<0.5,>=0.4.6->smac[all]) (0.29.14)\n",
      "Requirement already satisfied: pyparsing in /usr/local/lib/python3.6/dist-packages (from ConfigSpace<0.5,>=0.4.6->smac[all]) (2.4.5)\n",
      "Requirement already satisfied: six in /usr/local/lib/python3.6/dist-packages (from lazy_import->smac[all]) (1.12.0)\n",
      "Building wheels for collected packages: smac, pynisher, ConfigSpace, pyrfr, sobol-seq, lazy-import, pyDOE\n",
      "  Building wheel for smac (setup.py) ... \u001b[?25l\u001b[?25hdone\n",
      "  Created wheel for smac: filename=smac-0.11.1-cp36-none-any.whl size=165908 sha256=b408cb5629086cb925d7caa90bd50c851e9219830ffb4dd7f1a6427c2588d850\n",
      "  Stored in directory: /root/.cache/pip/wheels/5c/22/71/14afa2097163de1d610894f7985ff2bfbec08a9e02c5932faa\n",
      "  Building wheel for pynisher (setup.py) ... \u001b[?25l\u001b[?25hdone\n",
      "  Created wheel for pynisher: filename=pynisher-0.5.0-cp36-none-any.whl size=4360 sha256=36edbf4b4043ec325e3ed5cd19f3954cfdf5da7cd1da8e1fc771f8063e30cc49\n",
      "  Stored in directory: /root/.cache/pip/wheels/af/2a/c4/ec3abc8a2f786ef9786ea8fe6ff629a4e54812a3f98cc41b47\n",
      "  Building wheel for ConfigSpace (setup.py) ... \u001b[?25l\u001b[?25hdone\n",
      "  Created wheel for ConfigSpace: filename=ConfigSpace-0.4.11-cp36-cp36m-linux_x86_64.whl size=2907960 sha256=ceda81482d7933c655f191fe0bd697f0e49e24355417cb7a2dc231e9dd4b8381\n",
      "  Stored in directory: /root/.cache/pip/wheels/9f/bf/27/d224e97900342ebed7f81311458a572b557b99dd9492e00bf5\n",
      "  Building wheel for pyrfr (setup.py) ... \u001b[?25l\u001b[?25hdone\n",
      "  Created wheel for pyrfr: filename=pyrfr-0.8.0-cp36-cp36m-linux_x86_64.whl size=2540521 sha256=33103bf8785f5d6db4e8593b19053197adb4fbdcfaf166c27c98e80e627d2c3b\n",
      "  Stored in directory: /root/.cache/pip/wheels/61/1a/d2/b5aee388a492a01946143d3c976b2ca810af537480e1f16999\n",
      "  Building wheel for sobol-seq (setup.py) ... \u001b[?25l\u001b[?25hdone\n",
      "  Created wheel for sobol-seq: filename=sobol_seq-0.1.2-cp36-none-any.whl size=8191 sha256=283d18ee1b6efea6f204f7d32f035eb004dcd4011e4841e4fb2a2e234b721671\n",
      "  Stored in directory: /root/.cache/pip/wheels/d5/72/1f/6cd8a0b472da802ee9c84fdc39626bb4ec544668c030917d9f\n",
      "  Building wheel for lazy-import (setup.py) ... \u001b[?25l\u001b[?25hdone\n",
      "  Created wheel for lazy-import: filename=lazy_import-0.2.2-py2.py3-none-any.whl size=16488 sha256=00ba2a03489f6b6a78ef1a0a15f5b0a5323a7b58f58c071891dc9b2916a1729f\n",
      "  Stored in directory: /root/.cache/pip/wheels/a9/b0/b5/8c7e6810aee14bc4ed4a542ce56e744126263bf4f4825a9094\n",
      "  Building wheel for pyDOE (setup.py) ... \u001b[?25l\u001b[?25hdone\n",
      "  Created wheel for pyDOE: filename=pyDOE-0.3.8-cp36-none-any.whl size=18178 sha256=2e0d0ff90ee791f4ec01c8d0ea5e19cdc91474536521afae03347893e04642bd\n",
      "  Stored in directory: /root/.cache/pip/wheels/7c/c8/58/a6493bd415e8ba5735082b5e0c096d7c1f2933077a8ce34544\n",
      "Successfully built smac pynisher ConfigSpace pyrfr sobol-seq lazy-import pyDOE\n",
      "Installing collected packages: pynisher, ConfigSpace, pyrfr, sobol-seq, lazy-import, pyDOE, scikit-optimize, emcee, smac\n",
      "Successfully installed ConfigSpace-0.4.11 emcee-3.0.2 lazy-import-0.2.2 pyDOE-0.3.8 pynisher-0.5.0 pyrfr-0.8.0 scikit-optimize-0.5.2 smac-0.11.1 sobol-seq-0.1.2\n"
     ]
    }
   ],
   "source": [
    "!apt-get install swig\n",
    "!pip install smac[all]"
   ]
  },
  {
   "cell_type": "code",
   "execution_count": 0,
   "metadata": {
    "colab": {},
    "colab_type": "code",
    "id": "_W9Tdx3qGo6B"
   },
   "outputs": [],
   "source": [
    "from smac.facade.func_facade import fmin_smac\n",
    "from smac.facade.smac_bo_facade import SMAC4BO #Bayesian optimization using a GP \n",
    "from smac.facade.smac_hpo_facade import SMAC4HPO\n",
    "# Import ConfigSpace and different types of parameters\n",
    "from smac.configspace import ConfigurationSpace\n",
    "from ConfigSpace.hyperparameters import CategoricalHyperparameter, UniformFloatHyperparameter, UniformIntegerHyperparameter\n",
    "from ConfigSpace.conditions import InCondition\n",
    "from smac.configspace.util import convert_configurations_to_array\n",
    "\n",
    "# Import SMAC-utilities\n",
    "from smac.tae.execute_func import ExecuteTAFuncDict\n",
    "from smac.scenario.scenario import Scenario\n",
    "from smac.optimizer.acquisition import EI, PI\n",
    "from smac.initial_design.initial_design import InitialDesign\n",
    "from smac.initial_design.random_configuration_design import RandomConfigurations"
   ]
  },
  {
   "cell_type": "code",
   "execution_count": 3,
   "metadata": {
    "colab": {
     "base_uri": "https://localhost:8080/",
     "height": 570
    },
    "colab_type": "code",
    "id": "Jw19mNR_ipIo",
    "outputId": "b7e4fadc-5e8e-4f45-ccc5-f8dda91e1719"
   },
   "outputs": [
    {
     "name": "stdout",
     "output_type": "stream",
     "text": [
      "Collecting openml\n",
      "\u001b[?25l  Downloading https://files.pythonhosted.org/packages/68/5b/cd32bb85651eccebfb489cc6ef7f060ce0f62350a6239127e398313090cc/openml-0.10.2.tar.gz (158kB)\n",
      "\u001b[K     |████████████████████████████████| 163kB 2.7MB/s \n",
      "\u001b[?25hCollecting liac-arff>=2.4.0\n",
      "  Downloading https://files.pythonhosted.org/packages/e9/35/fbc9217cfa91d98888b43e1a19c03a50d716108c58494c558c65e308f372/liac-arff-2.4.0.tar.gz\n",
      "Collecting xmltodict\n",
      "  Downloading https://files.pythonhosted.org/packages/28/fd/30d5c1d3ac29ce229f6bdc40bbc20b28f716e8b363140c26eff19122d8a5/xmltodict-0.12.0-py2.py3-none-any.whl\n",
      "Requirement already satisfied: requests in /usr/local/lib/python3.6/dist-packages (from openml) (2.21.0)\n",
      "Requirement already satisfied: scikit-learn>=0.18 in /usr/local/lib/python3.6/dist-packages (from openml) (0.21.3)\n",
      "Requirement already satisfied: python-dateutil in /usr/local/lib/python3.6/dist-packages (from openml) (2.6.1)\n",
      "Requirement already satisfied: pandas>=0.19.2 in /usr/local/lib/python3.6/dist-packages (from openml) (0.25.3)\n",
      "Requirement already satisfied: scipy>=0.13.3 in /usr/local/lib/python3.6/dist-packages (from openml) (1.3.3)\n",
      "Requirement already satisfied: numpy>=1.6.2 in /usr/local/lib/python3.6/dist-packages (from openml) (1.17.4)\n",
      "Requirement already satisfied: chardet<3.1.0,>=3.0.2 in /usr/local/lib/python3.6/dist-packages (from requests->openml) (3.0.4)\n",
      "Requirement already satisfied: urllib3<1.25,>=1.21.1 in /usr/local/lib/python3.6/dist-packages (from requests->openml) (1.24.3)\n",
      "Requirement already satisfied: idna<2.9,>=2.5 in /usr/local/lib/python3.6/dist-packages (from requests->openml) (2.8)\n",
      "Requirement already satisfied: certifi>=2017.4.17 in /usr/local/lib/python3.6/dist-packages (from requests->openml) (2019.11.28)\n",
      "Requirement already satisfied: joblib>=0.11 in /usr/local/lib/python3.6/dist-packages (from scikit-learn>=0.18->openml) (0.14.0)\n",
      "Requirement already satisfied: six>=1.5 in /usr/local/lib/python3.6/dist-packages (from python-dateutil->openml) (1.12.0)\n",
      "Requirement already satisfied: pytz>=2017.2 in /usr/local/lib/python3.6/dist-packages (from pandas>=0.19.2->openml) (2018.9)\n",
      "Building wheels for collected packages: openml, liac-arff\n",
      "  Building wheel for openml (setup.py) ... \u001b[?25l\u001b[?25hdone\n",
      "  Created wheel for openml: filename=openml-0.10.2-cp36-none-any.whl size=190318 sha256=6f74c10eccd6a0b7144a302e3a38f97eef8528a6c41e757e14724d943d186374\n",
      "  Stored in directory: /root/.cache/pip/wheels/71/ec/5f/aaad9e184680b0b8f1a02ff0ec640cace5adf5bff7bb0af1b4\n",
      "  Building wheel for liac-arff (setup.py) ... \u001b[?25l\u001b[?25hdone\n",
      "  Created wheel for liac-arff: filename=liac_arff-2.4.0-cp36-none-any.whl size=13333 sha256=08f585f358670250332ae7ee5ba1fa15a67d06e5cb0ae5ff8332d35aa688e4ee\n",
      "  Stored in directory: /root/.cache/pip/wheels/d1/6a/e7/529dc54d76ecede4346164a09ae3168df358945612710f5203\n",
      "Successfully built openml liac-arff\n",
      "Installing collected packages: liac-arff, xmltodict, openml\n",
      "Successfully installed liac-arff-2.4.0 openml-0.10.2 xmltodict-0.12.0\n"
     ]
    }
   ],
   "source": [
    "pip install openml"
   ]
  },
  {
   "cell_type": "code",
   "execution_count": 4,
   "metadata": {
    "colab": {
     "base_uri": "https://localhost:8080/",
     "height": 161
    },
    "colab_type": "code",
    "id": "LgnsOvptGtz9",
    "outputId": "a64cf692-2d44-4443-c507-64b43e565237"
   },
   "outputs": [
    {
     "name": "stderr",
     "output_type": "stream",
     "text": [
      "INFO:openml.config:Could not find a configuration file at /root/.openml/config. Going to create an empty file there.\n",
      "/usr/local/lib/python3.6/dist-packages/sklearn/externals/six.py:31: DeprecationWarning: The module is deprecated in version 0.21 and will be removed in version 0.23 since we've dropped support for Python 2.7. Please rely on the official version of six (https://pypi.org/project/six/).\n",
      "  \"(https://pypi.org/project/six/).\", DeprecationWarning)\n",
      "\n",
      "WARNING:py.warnings:/usr/local/lib/python3.6/dist-packages/sklearn/externals/six.py:31: DeprecationWarning: The module is deprecated in version 0.21 and will be removed in version 0.23 since we've dropped support for Python 2.7. Please rely on the official version of six (https://pypi.org/project/six/).\n",
      "  \"(https://pypi.org/project/six/).\", DeprecationWarning)\n",
      "\n"
     ]
    }
   ],
   "source": [
    "import numpy as np\n",
    "import pandas as pd\n",
    "import openml\n",
    "from collections import Counter\n",
    "import matplotlib.pyplot as plt\n",
    "\n",
    "# Import utilities\n",
    "import logging\n",
    "logging.basicConfig(level=logging.INFO)\n",
    "logging.captureWarnings(capture=True)\n",
    "logger = logging.getLogger(\"py.warnings\")\n",
    "handler = logging.StreamHandler()\n",
    "logger.addHandler(handler)\n",
    "logger.addFilter(lambda record: \"ConvergenceWarning\" not in record.getMessage())\n",
    "\n",
    "# Import sklearn libraries \n",
    "from imblearn.over_sampling import SMOTE\n",
    "from imblearn.pipeline import Pipeline, make_pipeline\n",
    "\n",
    "from scipy.stats import uniform\n",
    "\n",
    "from sklearn.model_selection import GridSearchCV, RandomizedSearchCV, cross_val_score, cross_val_predict\n",
    "from sklearn.neural_network import MLPClassifier\n",
    "from sklearn.preprocessing import StandardScaler\n",
    "from sklearn.metrics import confusion_matrix, classification_report"
   ]
  },
  {
   "cell_type": "code",
   "execution_count": 0,
   "metadata": {
    "colab": {},
    "colab_type": "code",
    "id": "Bo-Yh9lOcgMF"
   },
   "outputs": [],
   "source": [
    "seed =np.random.RandomState(123)"
   ]
  },
  {
   "cell_type": "markdown",
   "metadata": {
    "colab_type": "text",
    "id": "n3mTKtw9w4qm"
   },
   "source": [
    "## Loading data from OpenML"
   ]
  },
  {
   "cell_type": "code",
   "execution_count": 6,
   "metadata": {
    "colab": {
     "base_uri": "https://localhost:8080/",
     "height": 34
    },
    "colab_type": "code",
    "id": "BuP4za_on4PW",
    "outputId": "fce8761c-9dc2-4187-a2cb-b97915092123"
   },
   "outputs": [
    {
     "name": "stderr",
     "output_type": "stream",
     "text": [
      "DEBUG:openml.datasets.dataset:Saved dataset 1473: fertility to file /root/.openml/cache/org/openml/www/datasets/1473/dataset.pkl.py3\n"
     ]
    }
   ],
   "source": [
    "dataset = openml.datasets.get_dataset(1473)"
   ]
  },
  {
   "cell_type": "code",
   "execution_count": 0,
   "metadata": {
    "colab": {},
    "colab_type": "code",
    "id": "jO3-AyIntwW9"
   },
   "outputs": [],
   "source": [
    "x, y, _, _ = dataset.get_data(\n",
    "    dataset_format='array',\n",
    "    target=dataset.default_target_attribute\n",
    ")"
   ]
  },
  {
   "cell_type": "markdown",
   "metadata": {
    "colab_type": "text",
    "id": "nq4_j6ZUpvkr"
   },
   "source": [
    "# Step 1\n",
    "\n",
    "The neural network must have 2 hidden layers with 4 units in the first hidden layer and 2 neurons in the second one.\n",
    "You can set all the other hyperparameters as you prefer (you can use the default values) and optimize the following 2 hyperparameters (HPO):\n",
    " - learning rate (numeric in 0.01 - 0.1)\n",
    " - momentum (numeric in 0.1 - 0.9)\n",
    "\n",
    "Choose between Gaussian Process (GP) or Random Forest (RF) as surrogate model.\n",
    "Use 5 initial random configurations of the hyperparameters as initial design, then perform:\n",
    " - 20 iterations of Sequential Model Based Optimization (SMBO) using an acquisition function\n",
    " - 20 iterations of SMBO using another acquisition function\n",
    "Note: the initial design must be the same between the two SMBO experiments related to the different acquisition functions\n",
    "Compare results against 25 configurations in Grid Search and 25 configurations sampled via Pure Random Search\n",
    "\n"
   ]
  },
  {
   "cell_type": "code",
   "execution_count": 0,
   "metadata": {
    "colab": {},
    "colab_type": "code",
    "id": "rt2-gJdmqVLk"
   },
   "outputs": [],
   "source": [
    "# Defining HP range\n",
    "LR_LOWER = 0.01\n",
    "LR_UPPER = 0.1\n",
    "MOMENTUM_LOWER = 0.1\n",
    "MOMENTUM_UPPER = 0.9\n",
    "\n",
    "# defining learning rate optimization range\n",
    "learning_rate = UniformFloatHyperparameter(\"learning_rate_init\", \n",
    "                                           lower=LR_LOWER,\n",
    "                                           upper=LR_UPPER)\n",
    "\n",
    "# defining momentum rate optimization range\n",
    "momentum = UniformFloatHyperparameter(\"momentum\", \n",
    "                                      lower=MOMENTUM_LOWER, \n",
    "                                      upper=MOMENTUM_UPPER)"
   ]
  },
  {
   "cell_type": "markdown",
   "metadata": {
    "colab_type": "text",
    "id": "_rka28ZRRU0P"
   },
   "source": [
    "Defining Configuration space and Scenario"
   ]
  },
  {
   "cell_type": "code",
   "execution_count": 9,
   "metadata": {
    "colab": {
     "base_uri": "https://localhost:8080/",
     "height": 52
    },
    "colab_type": "code",
    "id": "3__YnBwVRUau",
    "outputId": "9a743ec1-40cb-4792-f39e-a6d7047b1374"
   },
   "outputs": [
    {
     "data": {
      "text/plain": [
       "[learning_rate_init, Type: UniformFloat, Range: [0.01, 0.1], Default: 0.055,\n",
       " momentum, Type: UniformFloat, Range: [0.1, 0.9], Default: 0.5]"
      ]
     },
     "execution_count": 9,
     "metadata": {
      "tags": []
     },
     "output_type": "execute_result"
    }
   ],
   "source": [
    "# Build Configuration Space\n",
    "cs = ConfigurationSpace()\n",
    "cs.add_hyperparameters([learning_rate, momentum])"
   ]
  },
  {
   "cell_type": "markdown",
   "metadata": {
    "colab_type": "text",
    "id": "oUqyb1BdfG8C"
   },
   "source": [
    "the initial design must be the same between the two SMBO experiments related to the different acquisition functions"
   ]
  },
  {
   "cell_type": "code",
   "execution_count": 0,
   "metadata": {
    "colab": {},
    "colab_type": "code",
    "id": "CLOWUReGRm8g"
   },
   "outputs": [],
   "source": [
    "initial_runs = 5\n",
    "further_runs = 20"
   ]
  },
  {
   "cell_type": "code",
   "execution_count": 0,
   "metadata": {
    "colab": {},
    "colab_type": "code",
    "id": "VHJCa4KtXEai"
   },
   "outputs": [],
   "source": [
    "# defining 5 random initial configurations (the same for the different experiments\n",
    "initial_configs = cs.sample_configuration(size = initial_runs)"
   ]
  },
  {
   "cell_type": "code",
   "execution_count": 12,
   "metadata": {
    "colab": {
     "base_uri": "https://localhost:8080/",
     "height": 34
    },
    "colab_type": "code",
    "id": "uzpxXNw0RpFe",
    "outputId": "09010601-a54e-4c24-f0cc-aef358d2d983"
   },
   "outputs": [
    {
     "name": "stderr",
     "output_type": "stream",
     "text": [
      "INFO:smac.utils.io.cmd_reader.CMDReader:Output to smac3-output_2019-12-09_22:09:24_527576\n"
     ]
    }
   ],
   "source": [
    "# defining Scenario \n",
    "scenario = Scenario({\"run_obj\": \"quality\",\n",
    "                     \"runcount-limit\":initial_runs + further_runs,\n",
    "                     \"cs\":cs,\n",
    "                     \"deterministic\":True})"
   ]
  },
  {
   "cell_type": "markdown",
   "metadata": {
    "colab_type": "text",
    "id": "LQileDNoR4Yf"
   },
   "source": [
    "Using SMAC"
   ]
  },
  {
   "cell_type": "code",
   "execution_count": 0,
   "metadata": {
    "colab": {},
    "colab_type": "code",
    "id": "UeGSBpNrqYJ9"
   },
   "outputs": [],
   "source": [
    "def step1_cfg(**cfg):\n",
    "  smote = SMOTE(random_state=seed)\n",
    "  mlp = MLPClassifier(hidden_layer_sizes=(4,2,),\n",
    "                      solver='adam',\n",
    "                      random_state=seed,\n",
    "                      **cfg)\n",
    "  #model_pipeline = make_pipeline(smote, mlp)\n",
    "  model_pipeline = Pipeline([('smote', smote),\n",
    "                             ('scaler',StandardScaler()),\n",
    "                             ('mlp', mlp)])\n",
    "  return model_pipeline\n",
    "\n",
    "def step1_scores(kwargs):\n",
    "  cfg = step1_cfg(**kwargs)\n",
    "  scores = cross_val_score(cfg, x, y, cv=10)\n",
    "  return 1-np.mean(scores)  # Min 1-accuracy\n",
    "\n",
    "res_1 = {}"
   ]
  },
  {
   "cell_type": "code",
   "execution_count": 0,
   "metadata": {
    "colab": {},
    "colab_type": "code",
    "id": "zztYLmNQ0mzO"
   },
   "outputs": [],
   "source": [
    "def run_smac(acquisition_function):\n",
    "    smac = SMAC4HPO(scenario=scenario,\n",
    "                    rng=seed,\n",
    "                    tae_runner=step1_scores,\n",
    "                    initial_design_kwargs={'configs': initial_configs},\n",
    "                    acquisition_function=acquisition_function\n",
    "                    )\n",
    "\n",
    "    incumbent = smac.optimize()\n",
    "    bestseen = 1-np.minimum.accumulate(list(\n",
    "        smac.get_runhistory().cost_per_config.values()\n",
    "        ))\n",
    "    res_1[f\"HPO - {acquisition_function.__name__}\"] = {\n",
    "    'best': list(incumbent._values.values()),\n",
    "    'bestseen': bestseen\n",
    "    }\n",
    "    return incumbent"
   ]
  },
  {
   "cell_type": "markdown",
   "metadata": {
    "colab_type": "text",
    "id": "hWJC64FAXO70"
   },
   "source": [
    "Use 5 initial random configurations of the hyperparameters as initial design, then perform:\n",
    " - 20 iterations of Sequential Model Based Optimization (SMBO) using an acquisition function\n",
    " - 20 iterations of SMBO using another acquisition function\n",
    " "
   ]
  },
  {
   "cell_type": "code",
   "execution_count": 15,
   "metadata": {
    "colab": {
     "base_uri": "https://localhost:8080/",
     "height": 978
    },
    "colab_type": "code",
    "id": "4xqtorvqYFcA",
    "outputId": "4c3b5714-e808-4ad0-c420-12d2c852e520"
   },
   "outputs": [
    {
     "name": "stderr",
     "output_type": "stream",
     "text": [
      "INFO:smac.facade.smac_hpo_facade.SMAC4HPO:Optimizing a deterministic scenario for quality without a tuner timeout - will make SMAC deterministic and only evaluate one configuration per iteration!\n",
      "INFO:smac.initial_design.sobol_design.SobolDesign:Running initial design for 6 configurations\n",
      "INFO:smac.facade.smac_hpo_facade.SMAC4HPO:<class 'smac.facade.smac_hpo_facade.SMAC4HPO'>\n",
      "INFO:smac.intensification.intensification.Intensifier:Challenger (0.2274) is better than incumbent (0.2463) on 1 runs.\n",
      "INFO:smac.intensification.intensification.Intensifier:Changes in incumbent:\n",
      "INFO:smac.intensification.intensification.Intensifier:  learning_rate_init : 0.03794526180372212 -> 0.09517546089934852\n",
      "INFO:smac.intensification.intensification.Intensifier:  momentum : 0.7134686282622691 -> 0.41246906300532415\n",
      "INFO:smac.intensification.intensification.Intensifier:Challenger (0.2203) is better than incumbent (0.2274) on 1 runs.\n",
      "INFO:smac.intensification.intensification.Intensifier:Changes in incumbent:\n",
      "INFO:smac.intensification.intensification.Intensifier:  learning_rate_init : 0.09517546089934852 -> 0.0433184732988507\n",
      "INFO:smac.intensification.intensification.Intensifier:  momentum : 0.41246906300532415 -> 0.7712512621647044\n",
      "INFO:smac.intensification.intensification.Intensifier:Updated estimated cost of incumbent on 1 runs: 0.2203\n",
      "INFO:smac.intensification.intensification.Intensifier:Challenger (0.1581) is better than incumbent (0.2203) on 1 runs.\n",
      "INFO:smac.intensification.intensification.Intensifier:Changes in incumbent:\n",
      "INFO:smac.intensification.intensification.Intensifier:  learning_rate_init : 0.0433184732988507 -> 0.09811430162685031\n",
      "INFO:smac.intensification.intensification.Intensifier:  momentum : 0.7712512621647044 -> 0.7901453589524986\n",
      "INFO:smac.intensification.intensification.Intensifier:Updated estimated cost of incumbent on 1 runs: 0.1581\n",
      "INFO:smac.intensification.intensification.Intensifier:Updated estimated cost of incumbent on 1 runs: 0.1581\n",
      "INFO:smac.intensification.intensification.Intensifier:Updated estimated cost of incumbent on 1 runs: 0.1581\n",
      "INFO:smac.intensification.intensification.Intensifier:Updated estimated cost of incumbent on 1 runs: 0.1581\n",
      "INFO:smac.intensification.intensification.Intensifier:Updated estimated cost of incumbent on 1 runs: 0.1581\n",
      "INFO:smac.intensification.intensification.Intensifier:Updated estimated cost of incumbent on 1 runs: 0.1581\n",
      "INFO:smac.intensification.intensification.Intensifier:Updated estimated cost of incumbent on 1 runs: 0.1581\n",
      "INFO:smac.intensification.intensification.Intensifier:Updated estimated cost of incumbent on 1 runs: 0.1581\n",
      "INFO:smac.intensification.intensification.Intensifier:Updated estimated cost of incumbent on 1 runs: 0.1581\n",
      "INFO:smac.intensification.intensification.Intensifier:Updated estimated cost of incumbent on 1 runs: 0.1581\n",
      "INFO:smac.intensification.intensification.Intensifier:Updated estimated cost of incumbent on 1 runs: 0.1581\n",
      "INFO:smac.intensification.intensification.Intensifier:Updated estimated cost of incumbent on 1 runs: 0.1581\n",
      "INFO:smac.intensification.intensification.Intensifier:Updated estimated cost of incumbent on 1 runs: 0.1581\n",
      "INFO:smac.intensification.intensification.Intensifier:Updated estimated cost of incumbent on 1 runs: 0.1581\n",
      "INFO:smac.intensification.intensification.Intensifier:Updated estimated cost of incumbent on 1 runs: 0.1581\n",
      "INFO:smac.intensification.intensification.Intensifier:Updated estimated cost of incumbent on 1 runs: 0.1581\n",
      "INFO:smac.intensification.intensification.Intensifier:Updated estimated cost of incumbent on 1 runs: 0.1581\n",
      "INFO:smac.intensification.intensification.Intensifier:Updated estimated cost of incumbent on 1 runs: 0.1581\n",
      "INFO:smac.intensification.intensification.Intensifier:Updated estimated cost of incumbent on 1 runs: 0.1581\n",
      "INFO:smac.intensification.intensification.Intensifier:Challenger (0.1186) is better than incumbent (0.1581) on 1 runs.\n",
      "INFO:smac.intensification.intensification.Intensifier:Changes in incumbent:\n",
      "INFO:smac.intensification.intensification.Intensifier:  learning_rate_init : 0.09811430162685031 -> 0.09811455703036868\n",
      "INFO:smac.intensification.intensification.Intensifier:  momentum : 0.7901453589524986 -> 0.8850511045952261\n",
      "INFO:smac.intensification.intensification.Intensifier:Updated estimated cost of incumbent on 1 runs: 0.1186\n",
      "INFO:smac.stats.stats.Stats:##########################################################\n",
      "INFO:smac.stats.stats.Stats:Statistics:\n",
      "INFO:smac.stats.stats.Stats:#Incumbent changed: 4\n",
      "INFO:smac.stats.stats.Stats:#Target algorithm runs: 25 / 25.0\n",
      "INFO:smac.stats.stats.Stats:#Configurations: 25\n",
      "INFO:smac.stats.stats.Stats:Used wallclock time: 35.48 / inf sec \n",
      "INFO:smac.stats.stats.Stats:Used target algorithm runtime: 21.10 / inf sec\n",
      "INFO:smac.stats.stats.Stats:##########################################################\n",
      "INFO:smac.facade.smac_hpo_facade.SMAC4HPO:Final Incumbent: Configuration:\n",
      "  learning_rate_init, Value: 0.09811455703036868\n",
      "  momentum, Value: 0.8850511045952261\n",
      "\n",
      "INFO:smac.facade.smac_hpo_facade.SMAC4HPO:Estimated cost of incumbent: 0.118586\n"
     ]
    }
   ],
   "source": [
    "# run HPO with Logarithm Expected Improvement as acquisition function\n",
    "HPO_EI = run_smac(acquisition_function=EI)"
   ]
  },
  {
   "cell_type": "code",
   "execution_count": 16,
   "metadata": {
    "colab": {
     "base_uri": "https://localhost:8080/",
     "height": 907
    },
    "colab_type": "code",
    "id": "rnea6ow2do5Y",
    "outputId": "862b375a-e76d-423c-8d15-b49412643686"
   },
   "outputs": [
    {
     "name": "stderr",
     "output_type": "stream",
     "text": [
      "INFO:smac.facade.smac_hpo_facade.SMAC4HPO:Optimizing a deterministic scenario for quality without a tuner timeout - will make SMAC deterministic and only evaluate one configuration per iteration!\n",
      "INFO:smac.initial_design.sobol_design.SobolDesign:Running initial design for 6 configurations\n",
      "INFO:smac.facade.smac_hpo_facade.SMAC4HPO:<class 'smac.facade.smac_hpo_facade.SMAC4HPO'>\n",
      "INFO:smac.intensification.intensification.Intensifier:Challenger (0.1879) is better than incumbent (0.2283) on 1 runs.\n",
      "INFO:smac.intensification.intensification.Intensifier:Changes in incumbent:\n",
      "INFO:smac.intensification.intensification.Intensifier:  learning_rate_init : 0.03794526180372212 -> 0.09517546089934852\n",
      "INFO:smac.intensification.intensification.Intensifier:  momentum : 0.7134686282622691 -> 0.41246906300532415\n",
      "INFO:smac.intensification.intensification.Intensifier:Updated estimated cost of incumbent on 1 runs: 0.1879\n",
      "INFO:smac.intensification.intensification.Intensifier:Updated estimated cost of incumbent on 1 runs: 0.1879\n",
      "INFO:smac.intensification.intensification.Intensifier:Updated estimated cost of incumbent on 1 runs: 0.1879\n",
      "INFO:smac.intensification.intensification.Intensifier:Updated estimated cost of incumbent on 1 runs: 0.1879\n",
      "INFO:smac.intensification.intensification.Intensifier:Updated estimated cost of incumbent on 1 runs: 0.1879\n",
      "INFO:smac.intensification.intensification.Intensifier:Updated estimated cost of incumbent on 1 runs: 0.1879\n",
      "INFO:smac.intensification.intensification.Intensifier:Updated estimated cost of incumbent on 1 runs: 0.1879\n",
      "INFO:smac.intensification.intensification.Intensifier:Updated estimated cost of incumbent on 1 runs: 0.1879\n",
      "INFO:smac.intensification.intensification.Intensifier:Updated estimated cost of incumbent on 1 runs: 0.1879\n",
      "INFO:smac.intensification.intensification.Intensifier:Challenger (0.1677) is better than incumbent (0.1879) on 1 runs.\n",
      "INFO:smac.intensification.intensification.Intensifier:Changes in incumbent:\n",
      "INFO:smac.intensification.intensification.Intensifier:  learning_rate_init : 0.09517546089934852 -> 0.08347410299977708\n",
      "INFO:smac.intensification.intensification.Intensifier:  momentum : 0.41246906300532415 -> 0.5104770329423204\n",
      "INFO:smac.intensification.intensification.Intensifier:Updated estimated cost of incumbent on 1 runs: 0.1677\n",
      "INFO:smac.intensification.intensification.Intensifier:Challenger (0.1519) is better than incumbent (0.1677) on 1 runs.\n",
      "INFO:smac.intensification.intensification.Intensifier:Changes in incumbent:\n",
      "INFO:smac.intensification.intensification.Intensifier:  learning_rate_init : 0.08347410299977708 -> 0.08458538137576717\n",
      "INFO:smac.intensification.intensification.Intensifier:  momentum : 0.5104770329423204 -> 0.7114212227495175\n",
      "INFO:smac.intensification.intensification.Intensifier:Updated estimated cost of incumbent on 1 runs: 0.1519\n",
      "INFO:smac.intensification.intensification.Intensifier:Updated estimated cost of incumbent on 1 runs: 0.1519\n",
      "INFO:smac.intensification.intensification.Intensifier:Updated estimated cost of incumbent on 1 runs: 0.1519\n",
      "INFO:smac.intensification.intensification.Intensifier:Updated estimated cost of incumbent on 1 runs: 0.1519\n",
      "INFO:smac.intensification.intensification.Intensifier:Updated estimated cost of incumbent on 1 runs: 0.1519\n",
      "INFO:smac.intensification.intensification.Intensifier:Updated estimated cost of incumbent on 1 runs: 0.1519\n",
      "INFO:smac.intensification.intensification.Intensifier:Updated estimated cost of incumbent on 1 runs: 0.1519\n",
      "INFO:smac.intensification.intensification.Intensifier:Updated estimated cost of incumbent on 1 runs: 0.1519\n",
      "INFO:smac.intensification.intensification.Intensifier:Updated estimated cost of incumbent on 1 runs: 0.1519\n",
      "INFO:smac.intensification.intensification.Intensifier:Updated estimated cost of incumbent on 1 runs: 0.1519\n",
      "INFO:smac.intensification.intensification.Intensifier:Updated estimated cost of incumbent on 1 runs: 0.1519\n",
      "INFO:smac.stats.stats.Stats:##########################################################\n",
      "INFO:smac.stats.stats.Stats:Statistics:\n",
      "INFO:smac.stats.stats.Stats:#Incumbent changed: 3\n",
      "INFO:smac.stats.stats.Stats:#Target algorithm runs: 25 / 25.0\n",
      "INFO:smac.stats.stats.Stats:#Configurations: 25\n",
      "INFO:smac.stats.stats.Stats:Used wallclock time: 38.28 / inf sec \n",
      "INFO:smac.stats.stats.Stats:Used target algorithm runtime: 23.84 / inf sec\n",
      "INFO:smac.stats.stats.Stats:##########################################################\n",
      "INFO:smac.facade.smac_hpo_facade.SMAC4HPO:Final Incumbent: Configuration:\n",
      "  learning_rate_init, Value: 0.08458538137576717\n",
      "  momentum, Value: 0.7114212227495175\n",
      "\n",
      "INFO:smac.facade.smac_hpo_facade.SMAC4HPO:Estimated cost of incumbent: 0.151919\n"
     ]
    }
   ],
   "source": [
    "# run HPO with Probability of improvement as acquisition function\n",
    "HPO_PI = run_smac(acquisition_function=PI)"
   ]
  },
  {
   "cell_type": "markdown",
   "metadata": {
    "colab_type": "text",
    "id": "G6KQGJzenmNQ"
   },
   "source": [
    "## GridSearch "
   ]
  },
  {
   "cell_type": "code",
   "execution_count": 0,
   "metadata": {
    "colab": {},
    "colab_type": "code",
    "id": "DxQTxcH0nlzQ"
   },
   "outputs": [],
   "source": [
    "model_pipeline = step1_cfg()"
   ]
  },
  {
   "cell_type": "code",
   "execution_count": 0,
   "metadata": {
    "colab": {},
    "colab_type": "code",
    "id": "XoeLIvSmeuZf"
   },
   "outputs": [],
   "source": [
    "# Defining parameter's range\n",
    "lr_range = np.linspace(LR_LOWER, LR_UPPER, 5)\n",
    "momentum_range = np.linspace(MOMENTUM_LOWER, MOMENTUM_UPPER, 5)\n",
    "# Defining parameter's search space\n",
    "grid_params = {'mlp__learning_rate_init': lr_range,\n",
    "               'mlp__momentum': momentum_range}"
   ]
  },
  {
   "cell_type": "code",
   "execution_count": 19,
   "metadata": {
    "colab": {
     "base_uri": "https://localhost:8080/",
     "height": 196
    },
    "colab_type": "code",
    "id": "RqeEUKY2omoL",
    "outputId": "5db3fc87-6335-44c7-80e0-1251e7e1779e"
   },
   "outputs": [
    {
     "name": "stderr",
     "output_type": "stream",
     "text": [
      "[Parallel(n_jobs=1)]: Using backend SequentialBackend with 1 concurrent workers.\n"
     ]
    },
    {
     "name": "stdout",
     "output_type": "stream",
     "text": [
      "Fitting 10 folds for each of 25 candidates, totalling 250 fits\n"
     ]
    },
    {
     "name": "stderr",
     "output_type": "stream",
     "text": [
      "[Parallel(n_jobs=1)]: Done 250 out of 250 | elapsed:   24.1s finished\n",
      "/usr/local/lib/python3.6/dist-packages/sklearn/model_selection/_search.py:814: DeprecationWarning: The default of the `iid` parameter will change from True to False in version 0.22 and will be removed in 0.24. This will change numeric results when test-set sizes are unequal.\n",
      "  DeprecationWarning)\n",
      "\n",
      "WARNING:py.warnings:/usr/local/lib/python3.6/dist-packages/sklearn/model_selection/_search.py:814: DeprecationWarning: The default of the `iid` parameter will change from True to False in version 0.22 and will be removed in 0.24. This will change numeric results when test-set sizes are unequal.\n",
      "  DeprecationWarning)\n",
      "\n"
     ]
    }
   ],
   "source": [
    "GS = GridSearchCV(estimator=model_pipeline,\n",
    "                  param_grid=grid_params,\n",
    "                  cv=10,\n",
    "                  verbose=1)\n",
    "\n",
    "GS_RES = GS.fit(x,y)"
   ]
  },
  {
   "cell_type": "code",
   "execution_count": 0,
   "metadata": {
    "colab": {},
    "colab_type": "code",
    "id": "6krrRtLNpFPX"
   },
   "outputs": [],
   "source": [
    "prog_GS = GS.cv_results_['mean_test_score']\n",
    "best_GS = list(GS.best_params_.values())\n",
    "bestseen_GS = np.maximum.accumulate(prog_GS)\n",
    "\n",
    "res_1['GRID SEARCH'] = {'best': best_GS,\n",
    "                        'bestseen': bestseen_GS}"
   ]
  },
  {
   "cell_type": "markdown",
   "metadata": {
    "colab_type": "text",
    "id": "t_ffIUfhxj0s"
   },
   "source": [
    "## Random Search"
   ]
  },
  {
   "cell_type": "code",
   "execution_count": 0,
   "metadata": {
    "colab": {},
    "colab_type": "code",
    "id": "Z4l4L4efxpxl"
   },
   "outputs": [],
   "source": [
    "# Defining parameter's range\n",
    "lr_dist = uniform(LR_LOWER, LR_UPPER - LR_LOWER)\n",
    "lr_dist.random_state = seed\n",
    "\n",
    "mom_dist = uniform(MOMENTUM_LOWER, MOMENTUM_UPPER - MOMENTUM_LOWER)\n",
    "mom_dist.random_state = seed\n",
    "\n",
    "random_params = {'mlp__learning_rate_init': lr_dist,\n",
    "                 'mlp__momentum': mom_dist}"
   ]
  },
  {
   "cell_type": "code",
   "execution_count": 22,
   "metadata": {
    "colab": {
     "base_uri": "https://localhost:8080/",
     "height": 196
    },
    "colab_type": "code",
    "id": "OhUvITKuyBBx",
    "outputId": "7c3bd79c-85e2-445a-d781-5b9cccfea969"
   },
   "outputs": [
    {
     "name": "stderr",
     "output_type": "stream",
     "text": [
      "[Parallel(n_jobs=1)]: Using backend SequentialBackend with 1 concurrent workers.\n"
     ]
    },
    {
     "name": "stdout",
     "output_type": "stream",
     "text": [
      "Fitting 10 folds for each of 25 candidates, totalling 250 fits\n"
     ]
    },
    {
     "name": "stderr",
     "output_type": "stream",
     "text": [
      "[Parallel(n_jobs=1)]: Done 250 out of 250 | elapsed:   23.8s finished\n",
      "/usr/local/lib/python3.6/dist-packages/sklearn/model_selection/_search.py:814: DeprecationWarning: The default of the `iid` parameter will change from True to False in version 0.22 and will be removed in 0.24. This will change numeric results when test-set sizes are unequal.\n",
      "  DeprecationWarning)\n",
      "\n",
      "WARNING:py.warnings:/usr/local/lib/python3.6/dist-packages/sklearn/model_selection/_search.py:814: DeprecationWarning: The default of the `iid` parameter will change from True to False in version 0.22 and will be removed in 0.24. This will change numeric results when test-set sizes are unequal.\n",
      "  DeprecationWarning)\n",
      "\n"
     ]
    }
   ],
   "source": [
    "RS = RandomizedSearchCV(estimator=model_pipeline,\n",
    "                        param_distributions=random_params,\n",
    "                        n_iter=25,\n",
    "                        cv=10,\n",
    "                        verbose =1,\n",
    "                        random_state=seed)\n",
    "\n",
    "RS_RES = RS.fit(x,y)"
   ]
  },
  {
   "cell_type": "code",
   "execution_count": 0,
   "metadata": {
    "colab": {},
    "colab_type": "code",
    "id": "7cX7OlE-yXor"
   },
   "outputs": [],
   "source": [
    "prog_RS = RS.cv_results_['mean_test_score']\n",
    "best_RS = list(RS.best_params_.values())\n",
    "bestseen_RS = np.maximum.accumulate(prog_RS)\n",
    "\n",
    "res_1['RANDOM SEARCH'] = {'best': best_RS,\n",
    "                          'bestseen': bestseen_RS}"
   ]
  },
  {
   "cell_type": "markdown",
   "metadata": {
    "colab_type": "text",
    "id": "542evM65y1jX"
   },
   "source": [
    "# Step 1 - Result comparison"
   ]
  },
  {
   "cell_type": "code",
   "execution_count": 0,
   "metadata": {
    "colab": {},
    "colab_type": "code",
    "id": "jgYm5xDlb3qA"
   },
   "outputs": [],
   "source": [
    "# plot the evolution of \"bestseen\" config \n",
    "def plot_bestseen(dic, runs):\n",
    "  x_ax = np.arange(runs)\n",
    "  plt.figure(figsize=(15, 8))\n",
    "  ax = plt.subplot(111)\n",
    "  for alg in dic:\n",
    "    ax.plot(x_ax, dic[alg]['bestseen'],'-o', label=alg)\n",
    "  ax.legend(loc='upper center', \n",
    "            bbox_to_anchor=(0.5, -0.08), \n",
    "            shadow=True, \n",
    "            ncol=2)\n",
    "  plt.title('Best Seen')\n",
    "  plt.xlabel('Iterations')\n",
    "  plt.ylabel('Accuracy')\n",
    "  plt.show()"
   ]
  },
  {
   "cell_type": "code",
   "execution_count": 25,
   "metadata": {
    "colab": {
     "base_uri": "https://localhost:8080/",
     "height": 554
    },
    "colab_type": "code",
    "id": "CrjkaWvWy9w-",
    "outputId": "bc82da72-3fa9-4a49-a1e9-7ef5cb3a7f58"
   },
   "outputs": [
    {
     "data": {
      "image/png": "[encoded data removed]",
      "text/plain": [
       "<Figure size 1080x576 with 1 Axes>"
      ]
     },
     "metadata": {
      "tags": []
     },
     "output_type": "display_data"
    }
   ],
   "source": [
    "plot_bestseen(res_1, runs=initial_runs + further_runs )"
   ]
  },
  {
   "cell_type": "code",
   "execution_count": 26,
   "metadata": {
    "colab": {
     "base_uri": "https://localhost:8080/",
     "height": 87
    },
    "colab_type": "code",
    "id": "FL-j-WNp4J1q",
    "outputId": "69598466-a5ae-46fd-c9bf-e6ed17bf8cd3"
   },
   "outputs": [
    {
     "name": "stdout",
     "output_type": "stream",
     "text": [
      "Expected Improvement -> Learning rate: 0.09811455703036868 Momentum: 0.8850511045952261\n",
      "Probability of Improvement -> Learning rate: 0.08458538137576717 Momentum: 0.7114212227495175\n",
      "Random Search -> Learning rate: 0.08306333640277833 Momentum: 0.3693024741584735\n",
      "Grid Search -> Learning rate: 0.05500000000000001 Momentum: 0.1\n"
     ]
    }
   ],
   "source": [
    "print('Expected Improvement -> Learning rate:',res_1['HPO - EI']['best'][0],'Momentum:',res_1['HPO - EI']['best'][1])\n",
    "print('Probability of Improvement -> Learning rate:',res_1['HPO - PI']['best'][0],'Momentum:',res_1['HPO - PI']['best'][1])\n",
    "print('Random Search -> Learning rate:',res_1['RANDOM SEARCH']['best'][0],'Momentum:',res_1['RANDOM SEARCH']['best'][1])\n",
    "print('Grid Search -> Learning rate:',res_1['GRID SEARCH']['best'][0],'Momentum:',res_1['GRID SEARCH']['best'][1])"
   ]
  },
  {
   "cell_type": "markdown",
   "metadata": {
    "colab_type": "text",
    "id": "etXL5SIa2dYv"
   },
   "source": [
    "# Step 2\n",
    "\n",
    "In this step use SMBO to optimize, along with the two previous hyper-parameters, the number of units in the two hidden layers. Number of units ranges in 1 to 5 for both the two hidden layers\n",
    "In this case use RF and expand the budget as follows:\n",
    " - 10 initial configurations randomly chosen (initial design)\n",
    " - 100 iterations of SMBO using an acquisition function\n",
    " - 100 iterations of SMBO using another acquisition function\n",
    "Note: as in the previous step, the initial design must be the same between the two SMBO experiments related to the different acquisition functions\n",
    "\n",
    "In this case is not required any comparison with Grid Search and Random Search."
   ]
  },
  {
   "cell_type": "code",
   "execution_count": 0,
   "metadata": {
    "colab": {},
    "colab_type": "code",
    "id": "38mu-mBf2dGW"
   },
   "outputs": [],
   "source": [
    "# defining learning rate optimization range\n",
    "learning_rate = UniformFloatHyperparameter(\"learning_rate_init\", \n",
    "                                           lower=LR_LOWER,\n",
    "                                           upper=LR_UPPER)\n",
    "\n",
    "# defining momentum rate optimization range\n",
    "momentum = UniformFloatHyperparameter(\"momentum\", \n",
    "                                      lower=MOMENTUM_LOWER, \n",
    "                                      upper=MOMENTUM_UPPER)\n",
    "\n",
    "# defining first layer optimization range\n",
    "neurons_layer_1 = UniformIntegerHyperparameter(\"neurons_1\", 1,5)\n",
    "neurons_layer_2 = UniformIntegerHyperparameter(\"neurons_2\", 1,5)"
   ]
  },
  {
   "cell_type": "code",
   "execution_count": 28,
   "metadata": {
    "colab": {
     "base_uri": "https://localhost:8080/",
     "height": 87
    },
    "colab_type": "code",
    "id": "wHmLondXzBeu",
    "outputId": "ca698123-98ad-4fa2-8701-18e0a9894ca4"
   },
   "outputs": [
    {
     "data": {
      "text/plain": [
       "[learning_rate_init, Type: UniformFloat, Range: [0.01, 0.1], Default: 0.055,\n",
       " momentum, Type: UniformFloat, Range: [0.1, 0.9], Default: 0.5,\n",
       " neurons_1, Type: UniformInteger, Range: [1, 5], Default: 3,\n",
       " neurons_2, Type: UniformInteger, Range: [1, 5], Default: 3]"
      ]
     },
     "execution_count": 28,
     "metadata": {
      "tags": []
     },
     "output_type": "execute_result"
    }
   ],
   "source": [
    "# Build Configuration Space\n",
    "cs_2 = ConfigurationSpace()\n",
    "cs_2.add_hyperparameters([learning_rate, momentum,neurons_layer_1,neurons_layer_2])"
   ]
  },
  {
   "cell_type": "code",
   "execution_count": 0,
   "metadata": {
    "colab": {},
    "colab_type": "code",
    "id": "lNMgpWsb8fmw"
   },
   "outputs": [],
   "source": [
    "initial_runs2 = 10\n",
    "further_runs2 = 100"
   ]
  },
  {
   "cell_type": "code",
   "execution_count": 30,
   "metadata": {
    "colab": {
     "base_uri": "https://localhost:8080/",
     "height": 34
    },
    "colab_type": "code",
    "id": "nrNSp78U8ka9",
    "outputId": "8044efc0-0409-44dd-acd8-46049e801670"
   },
   "outputs": [
    {
     "name": "stderr",
     "output_type": "stream",
     "text": [
      "INFO:smac.utils.io.cmd_reader.CMDReader:Output to smac3-output_2019-12-09_22:11:27_098121\n"
     ]
    }
   ],
   "source": [
    "# defining 5 random initial configurations (the same for the different experiments)\n",
    "initial_configs2 = cs_2.sample_configuration(size = initial_runs2)\n",
    "\n",
    "# defining Scenario to maximize accuracy\n",
    "scenario_2 = Scenario({\"run_obj\": \"quality\",\n",
    "                       \"runcount-limit\":initial_runs2 + further_runs2,\n",
    "                       \"cs\":cs_2,\n",
    "                       \"deterministic\":True})"
   ]
  },
  {
   "cell_type": "markdown",
   "metadata": {
    "colab_type": "text",
    "id": "WlO2GytM96Ak"
   },
   "source": [
    "using Smac"
   ]
  },
  {
   "cell_type": "code",
   "execution_count": 0,
   "metadata": {
    "colab": {},
    "colab_type": "code",
    "id": "Qt0h6YcC97IW"
   },
   "outputs": [],
   "source": [
    "def step2_cfg(cfg):\n",
    "  smote = SMOTE(random_state=seed)\n",
    "  mlp = MLPClassifier(hidden_layer_sizes=(cfg['neurons_1'],cfg['neurons_2'],),\n",
    "                      solver='adam',\n",
    "                      random_state=seed,\n",
    "                      learning_rate_init=cfg['learning_rate_init'],\n",
    "                      momentum =cfg['momentum'])\n",
    "  model_pipeline = Pipeline([('smote', smote),\n",
    "                             ('scaler',StandardScaler()),\n",
    "                             ('mlp', mlp)])\n",
    "  scores = cross_val_score(model_pipeline, x, y, cv=10)\n",
    "  return 1-np.mean(scores)  # Min 1-accuracy\n",
    "\n",
    "res_2 = {}"
   ]
  },
  {
   "cell_type": "code",
   "execution_count": 0,
   "metadata": {
    "colab": {},
    "colab_type": "code",
    "id": "9h9n2I5O_F4i"
   },
   "outputs": [],
   "source": [
    "def run_smac2(acquisition_function):\n",
    "      smac = SMAC4HPO(scenario=scenario_2, \n",
    "                     rng=seed,\n",
    "                     tae_runner=step2_cfg,\n",
    "                     initial_design_kwargs={'configs': initial_configs2},\n",
    "                     acquisition_function=acquisition_function\n",
    "                     )\n",
    "      incumbent = smac.optimize()\n",
    "      bestseen = 1-np.minimum.accumulate(list(\n",
    "      smac.get_runhistory().cost_per_config.values()))\n",
    "      res_2[f\"HPO - {acquisition_function.__name__}\"] = {\n",
    "          'best': list(incumbent._values.values()),\n",
    "          'bestseen': bestseen\n",
    "          }\n",
    "      return incumbent"
   ]
  },
  {
   "cell_type": "code",
   "execution_count": 33,
   "metadata": {
    "colab": {
     "base_uri": "https://localhost:8080/",
     "height": 1000
    },
    "colab_type": "code",
    "id": "jzSYjavn_8zS",
    "outputId": "14df7a9a-fc3c-445f-e4f5-480722751228"
   },
   "outputs": [
    {
     "name": "stderr",
     "output_type": "stream",
     "text": [
      "INFO:smac.facade.smac_hpo_facade.SMAC4HPO:Optimizing a deterministic scenario for quality without a tuner timeout - will make SMAC deterministic and only evaluate one configuration per iteration!\n",
      "INFO:smac.initial_design.sobol_design.SobolDesign:Running initial design for 27 configurations\n",
      "INFO:smac.facade.smac_hpo_facade.SMAC4HPO:<class 'smac.facade.smac_hpo_facade.SMAC4HPO'>\n",
      "INFO:smac.intensification.intensification.Intensifier:Challenger (0.2196) is better than incumbent (0.2274) on 1 runs.\n",
      "INFO:smac.intensification.intensification.Intensifier:Changes in incumbent:\n",
      "INFO:smac.intensification.intensification.Intensifier:  learning_rate_init : 0.09969943627563377 -> 0.0438138948308998\n",
      "INFO:smac.intensification.intensification.Intensifier:  momentum : 0.1914682852256549 -> 0.6037255147591134\n",
      "INFO:smac.intensification.intensification.Intensifier:Challenger (0.1386) is better than incumbent (0.2196) on 1 runs.\n",
      "INFO:smac.intensification.intensification.Intensifier:Changes in incumbent:\n",
      "INFO:smac.intensification.intensification.Intensifier:  learning_rate_init : 0.0438138948308998 -> 0.04454725835007655\n",
      "INFO:smac.intensification.intensification.Intensifier:  momentum : 0.6037255147591134 -> 0.6951251939847742\n",
      "INFO:smac.intensification.intensification.Intensifier:  neurons_2 : 3 -> 1\n",
      "INFO:smac.intensification.intensification.Intensifier:Updated estimated cost of incumbent on 1 runs: 0.1386\n",
      "INFO:smac.intensification.intensification.Intensifier:Updated estimated cost of incumbent on 1 runs: 0.1386\n",
      "INFO:smac.intensification.intensification.Intensifier:Updated estimated cost of incumbent on 1 runs: 0.1386\n",
      "INFO:smac.intensification.intensification.Intensifier:Updated estimated cost of incumbent on 1 runs: 0.1386\n",
      "INFO:smac.intensification.intensification.Intensifier:Updated estimated cost of incumbent on 1 runs: 0.1386\n",
      "INFO:smac.intensification.intensification.Intensifier:Updated estimated cost of incumbent on 1 runs: 0.1386\n",
      "INFO:smac.intensification.intensification.Intensifier:Updated estimated cost of incumbent on 1 runs: 0.1386\n",
      "INFO:smac.intensification.intensification.Intensifier:Updated estimated cost of incumbent on 1 runs: 0.1386\n",
      "INFO:smac.intensification.intensification.Intensifier:Updated estimated cost of incumbent on 1 runs: 0.1386\n",
      "INFO:smac.intensification.intensification.Intensifier:Updated estimated cost of incumbent on 1 runs: 0.1386\n",
      "INFO:smac.intensification.intensification.Intensifier:Updated estimated cost of incumbent on 1 runs: 0.1386\n",
      "INFO:smac.intensification.intensification.Intensifier:Updated estimated cost of incumbent on 1 runs: 0.1386\n",
      "INFO:smac.intensification.intensification.Intensifier:Updated estimated cost of incumbent on 1 runs: 0.1386\n",
      "INFO:smac.intensification.intensification.Intensifier:Updated estimated cost of incumbent on 1 runs: 0.1386\n",
      "INFO:smac.intensification.intensification.Intensifier:Updated estimated cost of incumbent on 1 runs: 0.1386\n",
      "INFO:smac.intensification.intensification.Intensifier:Updated estimated cost of incumbent on 1 runs: 0.1386\n",
      "INFO:smac.intensification.intensification.Intensifier:Updated estimated cost of incumbent on 1 runs: 0.1386\n",
      "INFO:smac.intensification.intensification.Intensifier:Challenger (0.1186) is better than incumbent (0.1386) on 1 runs.\n",
      "INFO:smac.intensification.intensification.Intensifier:Changes in incumbent:\n",
      "INFO:smac.intensification.intensification.Intensifier:  momentum : 0.6951251939847742 -> 0.6950744055680251\n",
      "INFO:smac.intensification.intensification.Intensifier:  neurons_1 : 4 -> 5\n",
      "INFO:smac.intensification.intensification.Intensifier:Updated estimated cost of incumbent on 1 runs: 0.1186\n",
      "INFO:smac.intensification.intensification.Intensifier:Updated estimated cost of incumbent on 1 runs: 0.1186\n",
      "INFO:smac.intensification.intensification.Intensifier:Updated estimated cost of incumbent on 1 runs: 0.1186\n",
      "INFO:smac.intensification.intensification.Intensifier:Updated estimated cost of incumbent on 1 runs: 0.1186\n",
      "INFO:smac.intensification.intensification.Intensifier:Updated estimated cost of incumbent on 1 runs: 0.1186\n",
      "INFO:smac.intensification.intensification.Intensifier:Updated estimated cost of incumbent on 1 runs: 0.1186\n",
      "INFO:smac.intensification.intensification.Intensifier:Updated estimated cost of incumbent on 1 runs: 0.1186\n",
      "INFO:smac.intensification.intensification.Intensifier:Updated estimated cost of incumbent on 1 runs: 0.1186\n",
      "INFO:smac.intensification.intensification.Intensifier:Updated estimated cost of incumbent on 1 runs: 0.1186\n",
      "INFO:smac.intensification.intensification.Intensifier:Updated estimated cost of incumbent on 1 runs: 0.1186\n",
      "INFO:smac.intensification.intensification.Intensifier:Updated estimated cost of incumbent on 1 runs: 0.1186\n",
      "INFO:smac.intensification.intensification.Intensifier:Updated estimated cost of incumbent on 1 runs: 0.1186\n",
      "INFO:smac.intensification.intensification.Intensifier:Updated estimated cost of incumbent on 1 runs: 0.1186\n",
      "INFO:smac.intensification.intensification.Intensifier:Updated estimated cost of incumbent on 1 runs: 0.1186\n",
      "INFO:smac.intensification.intensification.Intensifier:Updated estimated cost of incumbent on 1 runs: 0.1186\n",
      "INFO:smac.intensification.intensification.Intensifier:Updated estimated cost of incumbent on 1 runs: 0.1186\n",
      "INFO:smac.intensification.intensification.Intensifier:Updated estimated cost of incumbent on 1 runs: 0.1186\n",
      "INFO:smac.intensification.intensification.Intensifier:Updated estimated cost of incumbent on 1 runs: 0.1186\n",
      "INFO:smac.intensification.intensification.Intensifier:Updated estimated cost of incumbent on 1 runs: 0.1186\n",
      "INFO:smac.intensification.intensification.Intensifier:Updated estimated cost of incumbent on 1 runs: 0.1186\n",
      "INFO:smac.intensification.intensification.Intensifier:Updated estimated cost of incumbent on 1 runs: 0.1186\n",
      "INFO:smac.intensification.intensification.Intensifier:Updated estimated cost of incumbent on 1 runs: 0.1186\n",
      "INFO:smac.intensification.intensification.Intensifier:Updated estimated cost of incumbent on 1 runs: 0.1186\n",
      "INFO:smac.intensification.intensification.Intensifier:Updated estimated cost of incumbent on 1 runs: 0.1186\n",
      "INFO:smac.intensification.intensification.Intensifier:Updated estimated cost of incumbent on 1 runs: 0.1186\n",
      "INFO:smac.intensification.intensification.Intensifier:Updated estimated cost of incumbent on 1 runs: 0.1186\n",
      "INFO:smac.intensification.intensification.Intensifier:Updated estimated cost of incumbent on 1 runs: 0.1186\n",
      "INFO:smac.intensification.intensification.Intensifier:Updated estimated cost of incumbent on 1 runs: 0.1186\n",
      "INFO:smac.intensification.intensification.Intensifier:Updated estimated cost of incumbent on 1 runs: 0.1186\n",
      "INFO:smac.intensification.intensification.Intensifier:Updated estimated cost of incumbent on 1 runs: 0.1186\n",
      "INFO:smac.intensification.intensification.Intensifier:Updated estimated cost of incumbent on 1 runs: 0.1186\n",
      "INFO:smac.intensification.intensification.Intensifier:Updated estimated cost of incumbent on 1 runs: 0.1186\n",
      "INFO:smac.intensification.intensification.Intensifier:Updated estimated cost of incumbent on 1 runs: 0.1186\n",
      "INFO:smac.intensification.intensification.Intensifier:Updated estimated cost of incumbent on 1 runs: 0.1186\n",
      "INFO:smac.intensification.intensification.Intensifier:Updated estimated cost of incumbent on 1 runs: 0.1186\n",
      "INFO:smac.intensification.intensification.Intensifier:Updated estimated cost of incumbent on 1 runs: 0.1186\n",
      "INFO:smac.intensification.intensification.Intensifier:Updated estimated cost of incumbent on 1 runs: 0.1186\n",
      "INFO:smac.intensification.intensification.Intensifier:Updated estimated cost of incumbent on 1 runs: 0.1186\n",
      "INFO:smac.intensification.intensification.Intensifier:Updated estimated cost of incumbent on 1 runs: 0.1186\n",
      "INFO:smac.intensification.intensification.Intensifier:Updated estimated cost of incumbent on 1 runs: 0.1186\n",
      "INFO:smac.intensification.intensification.Intensifier:Updated estimated cost of incumbent on 1 runs: 0.1186\n",
      "INFO:smac.intensification.intensification.Intensifier:Updated estimated cost of incumbent on 1 runs: 0.1186\n",
      "INFO:smac.intensification.intensification.Intensifier:Updated estimated cost of incumbent on 1 runs: 0.1186\n",
      "INFO:smac.intensification.intensification.Intensifier:Updated estimated cost of incumbent on 1 runs: 0.1186\n",
      "INFO:smac.intensification.intensification.Intensifier:Updated estimated cost of incumbent on 1 runs: 0.1186\n",
      "INFO:smac.intensification.intensification.Intensifier:Updated estimated cost of incumbent on 1 runs: 0.1186\n",
      "INFO:smac.intensification.intensification.Intensifier:Updated estimated cost of incumbent on 1 runs: 0.1186\n",
      "INFO:smac.intensification.intensification.Intensifier:Updated estimated cost of incumbent on 1 runs: 0.1186\n",
      "INFO:smac.intensification.intensification.Intensifier:Updated estimated cost of incumbent on 1 runs: 0.1186\n",
      "INFO:smac.intensification.intensification.Intensifier:Updated estimated cost of incumbent on 1 runs: 0.1186\n",
      "INFO:smac.intensification.intensification.Intensifier:Updated estimated cost of incumbent on 1 runs: 0.1186\n",
      "INFO:smac.intensification.intensification.Intensifier:Updated estimated cost of incumbent on 1 runs: 0.1186\n",
      "INFO:smac.intensification.intensification.Intensifier:Updated estimated cost of incumbent on 1 runs: 0.1186\n",
      "INFO:smac.intensification.intensification.Intensifier:Updated estimated cost of incumbent on 1 runs: 0.1186\n",
      "INFO:smac.intensification.intensification.Intensifier:Updated estimated cost of incumbent on 1 runs: 0.1186\n",
      "INFO:smac.intensification.intensification.Intensifier:Updated estimated cost of incumbent on 1 runs: 0.1186\n",
      "INFO:smac.intensification.intensification.Intensifier:Updated estimated cost of incumbent on 1 runs: 0.1186\n",
      "INFO:smac.intensification.intensification.Intensifier:Updated estimated cost of incumbent on 1 runs: 0.1186\n",
      "INFO:smac.intensification.intensification.Intensifier:Updated estimated cost of incumbent on 1 runs: 0.1186\n",
      "INFO:smac.intensification.intensification.Intensifier:Updated estimated cost of incumbent on 1 runs: 0.1186\n",
      "INFO:smac.intensification.intensification.Intensifier:Updated estimated cost of incumbent on 1 runs: 0.1186\n",
      "INFO:smac.intensification.intensification.Intensifier:Updated estimated cost of incumbent on 1 runs: 0.1186\n",
      "INFO:smac.intensification.intensification.Intensifier:Updated estimated cost of incumbent on 1 runs: 0.1186\n",
      "INFO:smac.intensification.intensification.Intensifier:Updated estimated cost of incumbent on 1 runs: 0.1186\n",
      "INFO:smac.intensification.intensification.Intensifier:Updated estimated cost of incumbent on 1 runs: 0.1186\n",
      "INFO:smac.intensification.intensification.Intensifier:Updated estimated cost of incumbent on 1 runs: 0.1186\n",
      "INFO:smac.intensification.intensification.Intensifier:Updated estimated cost of incumbent on 1 runs: 0.1186\n",
      "INFO:smac.intensification.intensification.Intensifier:Updated estimated cost of incumbent on 1 runs: 0.1186\n",
      "INFO:smac.intensification.intensification.Intensifier:Updated estimated cost of incumbent on 1 runs: 0.1186\n",
      "INFO:smac.intensification.intensification.Intensifier:Updated estimated cost of incumbent on 1 runs: 0.1186\n",
      "INFO:smac.intensification.intensification.Intensifier:Updated estimated cost of incumbent on 1 runs: 0.1186\n",
      "INFO:smac.intensification.intensification.Intensifier:Updated estimated cost of incumbent on 1 runs: 0.1186\n",
      "INFO:smac.intensification.intensification.Intensifier:Updated estimated cost of incumbent on 1 runs: 0.1186\n",
      "INFO:smac.intensification.intensification.Intensifier:Updated estimated cost of incumbent on 1 runs: 0.1186\n",
      "INFO:smac.intensification.intensification.Intensifier:Updated estimated cost of incumbent on 1 runs: 0.1186\n",
      "INFO:smac.intensification.intensification.Intensifier:Updated estimated cost of incumbent on 1 runs: 0.1186\n",
      "INFO:smac.intensification.intensification.Intensifier:Updated estimated cost of incumbent on 1 runs: 0.1186\n",
      "INFO:smac.intensification.intensification.Intensifier:Updated estimated cost of incumbent on 1 runs: 0.1186\n",
      "INFO:smac.intensification.intensification.Intensifier:Updated estimated cost of incumbent on 1 runs: 0.1186\n",
      "INFO:smac.intensification.intensification.Intensifier:Updated estimated cost of incumbent on 1 runs: 0.1186\n",
      "INFO:smac.intensification.intensification.Intensifier:Updated estimated cost of incumbent on 1 runs: 0.1186\n",
      "INFO:smac.intensification.intensification.Intensifier:Updated estimated cost of incumbent on 1 runs: 0.1186\n",
      "INFO:smac.intensification.intensification.Intensifier:Updated estimated cost of incumbent on 1 runs: 0.1186\n",
      "INFO:smac.intensification.intensification.Intensifier:Updated estimated cost of incumbent on 1 runs: 0.1186\n",
      "INFO:smac.stats.stats.Stats:##########################################################\n",
      "INFO:smac.stats.stats.Stats:Statistics:\n",
      "INFO:smac.stats.stats.Stats:#Incumbent changed: 3\n",
      "INFO:smac.stats.stats.Stats:#Target algorithm runs: 110 / 110.0\n",
      "INFO:smac.stats.stats.Stats:#Configurations: 110\n",
      "INFO:smac.stats.stats.Stats:Used wallclock time: 214.82 / inf sec \n",
      "INFO:smac.stats.stats.Stats:Used target algorithm runtime: 106.23 / inf sec\n",
      "INFO:smac.stats.stats.Stats:##########################################################\n",
      "INFO:smac.facade.smac_hpo_facade.SMAC4HPO:Final Incumbent: Configuration:\n",
      "  learning_rate_init, Value: 0.04454725835007655\n",
      "  momentum, Value: 0.6950744055680251\n",
      "  neurons_1, Value: 5\n",
      "  neurons_2, Value: 1\n",
      "\n",
      "INFO:smac.facade.smac_hpo_facade.SMAC4HPO:Estimated cost of incumbent: 0.118586\n"
     ]
    }
   ],
   "source": [
    "# run HPO with Logarithm Expected Improvement as acquisition function\n",
    "HPO_EI_2 = run_smac2(acquisition_function=EI)"
   ]
  },
  {
   "cell_type": "code",
   "execution_count": 34,
   "metadata": {
    "colab": {
     "base_uri": "https://localhost:8080/",
     "height": 1000
    },
    "colab_type": "code",
    "id": "fBuwMMXkAChZ",
    "outputId": "0b580bf4-2bfa-47c1-b16c-bf7a27b8c8c9"
   },
   "outputs": [
    {
     "name": "stderr",
     "output_type": "stream",
     "text": [
      "INFO:smac.facade.smac_hpo_facade.SMAC4HPO:Optimizing a deterministic scenario for quality without a tuner timeout - will make SMAC deterministic and only evaluate one configuration per iteration!\n",
      "INFO:smac.initial_design.sobol_design.SobolDesign:Running initial design for 27 configurations\n",
      "INFO:smac.facade.smac_hpo_facade.SMAC4HPO:<class 'smac.facade.smac_hpo_facade.SMAC4HPO'>\n",
      "INFO:smac.intensification.intensification.Intensifier:Challenger (0.2679) is better than incumbent (0.2722) on 1 runs.\n",
      "INFO:smac.intensification.intensification.Intensifier:Changes in incumbent:\n",
      "INFO:smac.intensification.intensification.Intensifier:  learning_rate_init : 0.09969943627563377 -> 0.038532534543347804\n",
      "INFO:smac.intensification.intensification.Intensifier:  momentum : 0.1914682852256549 -> 0.5725853643722799\n",
      "INFO:smac.intensification.intensification.Intensifier:  neurons_1 : 4 -> 1\n",
      "INFO:smac.intensification.intensification.Intensifier:  neurons_2 : 3 -> 4\n",
      "INFO:smac.intensification.intensification.Intensifier:Challenger (0.2340) is better than incumbent (0.2679) on 1 runs.\n",
      "INFO:smac.intensification.intensification.Intensifier:Changes in incumbent:\n",
      "INFO:smac.intensification.intensification.Intensifier:  learning_rate_init : 0.038532534543347804 -> 0.07244088247647944\n",
      "INFO:smac.intensification.intensification.Intensifier:  momentum : 0.5725853643722799 -> 0.14437021254123864\n",
      "INFO:smac.intensification.intensification.Intensifier:  neurons_1 : 1 -> 2\n",
      "INFO:smac.intensification.intensification.Intensifier:Challenger (0.2179) is better than incumbent (0.2340) on 1 runs.\n",
      "INFO:smac.intensification.intensification.Intensifier:Changes in incumbent:\n",
      "INFO:smac.intensification.intensification.Intensifier:  learning_rate_init : 0.07244088247647944 -> 0.028315033088871705\n",
      "INFO:smac.intensification.intensification.Intensifier:  momentum : 0.14437021254123864 -> 0.7644236214028631\n",
      "INFO:smac.intensification.intensification.Intensifier:  neurons_1 : 2 -> 4\n",
      "INFO:smac.intensification.intensification.Intensifier:  neurons_2 : 4 -> 1\n",
      "INFO:smac.intensification.intensification.Intensifier:Updated estimated cost of incumbent on 1 runs: 0.2179\n",
      "INFO:smac.intensification.intensification.Intensifier:Updated estimated cost of incumbent on 1 runs: 0.2179\n",
      "INFO:smac.intensification.intensification.Intensifier:Updated estimated cost of incumbent on 1 runs: 0.2179\n",
      "INFO:smac.intensification.intensification.Intensifier:Updated estimated cost of incumbent on 1 runs: 0.2179\n",
      "INFO:smac.intensification.intensification.Intensifier:Updated estimated cost of incumbent on 1 runs: 0.2179\n",
      "INFO:smac.intensification.intensification.Intensifier:Challenger (0.2097) is better than incumbent (0.2179) on 1 runs.\n",
      "INFO:smac.intensification.intensification.Intensifier:Changes in incumbent:\n",
      "INFO:smac.intensification.intensification.Intensifier:  learning_rate_init : 0.028315033088871705 -> 0.02832888375953832\n",
      "INFO:smac.intensification.intensification.Intensifier:  momentum : 0.7644236214028631 -> 0.3801525415697662\n",
      "INFO:smac.intensification.intensification.Intensifier:  neurons_1 : 4 -> 3\n",
      "INFO:smac.intensification.intensification.Intensifier:  neurons_2 : 1 -> 3\n",
      "INFO:smac.intensification.intensification.Intensifier:Updated estimated cost of incumbent on 1 runs: 0.2097\n",
      "INFO:smac.intensification.intensification.Intensifier:Challenger (0.1990) is better than incumbent (0.2097) on 1 runs.\n",
      "INFO:smac.intensification.intensification.Intensifier:Changes in incumbent:\n",
      "INFO:smac.intensification.intensification.Intensifier:  learning_rate_init : 0.02832888375953832 -> 0.028372618331525858\n",
      "INFO:smac.intensification.intensification.Intensifier:  momentum : 0.3801525415697662 -> 0.3864384591679292\n",
      "INFO:smac.intensification.intensification.Intensifier:  neurons_2 : 3 -> 5\n",
      "INFO:smac.intensification.intensification.Intensifier:Updated estimated cost of incumbent on 1 runs: 0.1990\n",
      "INFO:smac.intensification.intensification.Intensifier:Updated estimated cost of incumbent on 1 runs: 0.1990\n",
      "INFO:smac.intensification.intensification.Intensifier:Updated estimated cost of incumbent on 1 runs: 0.1990\n",
      "INFO:smac.intensification.intensification.Intensifier:Updated estimated cost of incumbent on 1 runs: 0.1990\n",
      "INFO:smac.intensification.intensification.Intensifier:Updated estimated cost of incumbent on 1 runs: 0.1990\n",
      "INFO:smac.intensification.intensification.Intensifier:Updated estimated cost of incumbent on 1 runs: 0.1990\n",
      "INFO:smac.intensification.intensification.Intensifier:Updated estimated cost of incumbent on 1 runs: 0.1990\n",
      "INFO:smac.intensification.intensification.Intensifier:Updated estimated cost of incumbent on 1 runs: 0.1990\n",
      "INFO:smac.intensification.intensification.Intensifier:Updated estimated cost of incumbent on 1 runs: 0.1990\n",
      "INFO:smac.intensification.intensification.Intensifier:Updated estimated cost of incumbent on 1 runs: 0.1990\n",
      "INFO:smac.intensification.intensification.Intensifier:Updated estimated cost of incumbent on 1 runs: 0.1990\n",
      "INFO:smac.intensification.intensification.Intensifier:Updated estimated cost of incumbent on 1 runs: 0.1990\n",
      "INFO:smac.intensification.intensification.Intensifier:Updated estimated cost of incumbent on 1 runs: 0.1990\n",
      "INFO:smac.intensification.intensification.Intensifier:Updated estimated cost of incumbent on 1 runs: 0.1990\n",
      "INFO:smac.intensification.intensification.Intensifier:Updated estimated cost of incumbent on 1 runs: 0.1990\n",
      "INFO:smac.intensification.intensification.Intensifier:Updated estimated cost of incumbent on 1 runs: 0.1990\n",
      "INFO:smac.intensification.intensification.Intensifier:Updated estimated cost of incumbent on 1 runs: 0.1990\n",
      "INFO:smac.intensification.intensification.Intensifier:Challenger (0.1770) is better than incumbent (0.1990) on 1 runs.\n",
      "INFO:smac.intensification.intensification.Intensifier:Changes in incumbent:\n",
      "INFO:smac.intensification.intensification.Intensifier:  learning_rate_init : 0.028372618331525858 -> 0.02836288629428855\n",
      "INFO:smac.intensification.intensification.Intensifier:  momentum : 0.3864384591679292 -> 0.3865475453870293\n",
      "INFO:smac.intensification.intensification.Intensifier:Updated estimated cost of incumbent on 1 runs: 0.1770\n",
      "INFO:smac.intensification.intensification.Intensifier:Updated estimated cost of incumbent on 1 runs: 0.1770\n",
      "INFO:smac.intensification.intensification.Intensifier:Updated estimated cost of incumbent on 1 runs: 0.1770\n",
      "INFO:smac.intensification.intensification.Intensifier:Updated estimated cost of incumbent on 1 runs: 0.1770\n",
      "INFO:smac.intensification.intensification.Intensifier:Updated estimated cost of incumbent on 1 runs: 0.1770\n",
      "INFO:smac.intensification.intensification.Intensifier:Updated estimated cost of incumbent on 1 runs: 0.1770\n",
      "INFO:smac.intensification.intensification.Intensifier:Updated estimated cost of incumbent on 1 runs: 0.1770\n",
      "INFO:smac.intensification.intensification.Intensifier:Updated estimated cost of incumbent on 1 runs: 0.1770\n",
      "INFO:smac.intensification.intensification.Intensifier:Updated estimated cost of incumbent on 1 runs: 0.1770\n",
      "INFO:smac.intensification.intensification.Intensifier:Updated estimated cost of incumbent on 1 runs: 0.1770\n",
      "INFO:smac.intensification.intensification.Intensifier:Updated estimated cost of incumbent on 1 runs: 0.1770\n",
      "INFO:smac.intensification.intensification.Intensifier:Updated estimated cost of incumbent on 1 runs: 0.1770\n",
      "INFO:smac.intensification.intensification.Intensifier:Updated estimated cost of incumbent on 1 runs: 0.1770\n",
      "INFO:smac.intensification.intensification.Intensifier:Updated estimated cost of incumbent on 1 runs: 0.1770\n",
      "INFO:smac.intensification.intensification.Intensifier:Updated estimated cost of incumbent on 1 runs: 0.1770\n",
      "INFO:smac.intensification.intensification.Intensifier:Updated estimated cost of incumbent on 1 runs: 0.1770\n",
      "INFO:smac.intensification.intensification.Intensifier:Challenger (0.1739) is better than incumbent (0.1770) on 1 runs.\n",
      "INFO:smac.intensification.intensification.Intensifier:Changes in incumbent:\n",
      "INFO:smac.intensification.intensification.Intensifier:  learning_rate_init : 0.02836288629428855 -> 0.0821167204758577\n",
      "INFO:smac.intensification.intensification.Intensifier:  momentum : 0.3865475453870293 -> 0.11270948691360055\n",
      "INFO:smac.intensification.intensification.Intensifier:  neurons_1 : 3 -> 4\n",
      "INFO:smac.intensification.intensification.Intensifier:Updated estimated cost of incumbent on 1 runs: 0.1739\n",
      "INFO:smac.intensification.intensification.Intensifier:Updated estimated cost of incumbent on 1 runs: 0.1739\n",
      "INFO:smac.intensification.intensification.Intensifier:Updated estimated cost of incumbent on 1 runs: 0.1739\n",
      "INFO:smac.intensification.intensification.Intensifier:Challenger (0.1688) is better than incumbent (0.1739) on 1 runs.\n",
      "INFO:smac.intensification.intensification.Intensifier:Changes in incumbent:\n",
      "INFO:smac.intensification.intensification.Intensifier:  learning_rate_init : 0.0821167204758577 -> 0.09695890343763418\n",
      "INFO:smac.intensification.intensification.Intensifier:  momentum : 0.11270948691360055 -> 0.10027567633709461\n",
      "INFO:smac.intensification.intensification.Intensifier:  neurons_1 : 4 -> 3\n",
      "INFO:smac.intensification.intensification.Intensifier:Updated estimated cost of incumbent on 1 runs: 0.1688\n",
      "INFO:smac.intensification.intensification.Intensifier:Challenger (0.1195) is better than incumbent (0.1688) on 1 runs.\n",
      "INFO:smac.intensification.intensification.Intensifier:Changes in incumbent:\n",
      "INFO:smac.intensification.intensification.Intensifier:  learning_rate_init : 0.09695890343763418 -> 0.0941955433387664\n",
      "INFO:smac.intensification.intensification.Intensifier:  momentum : 0.10027567633709461 -> 0.10060450146028602\n",
      "INFO:smac.intensification.intensification.Intensifier:  neurons_1 : 3 -> 5\n",
      "INFO:smac.intensification.intensification.Intensifier:Updated estimated cost of incumbent on 1 runs: 0.1195\n",
      "INFO:smac.intensification.intensification.Intensifier:Updated estimated cost of incumbent on 1 runs: 0.1195\n",
      "INFO:smac.intensification.intensification.Intensifier:Updated estimated cost of incumbent on 1 runs: 0.1195\n",
      "INFO:smac.intensification.intensification.Intensifier:Updated estimated cost of incumbent on 1 runs: 0.1195\n",
      "INFO:smac.intensification.intensification.Intensifier:Updated estimated cost of incumbent on 1 runs: 0.1195\n",
      "INFO:smac.intensification.intensification.Intensifier:Updated estimated cost of incumbent on 1 runs: 0.1195\n",
      "INFO:smac.intensification.intensification.Intensifier:Updated estimated cost of incumbent on 1 runs: 0.1195\n",
      "INFO:smac.intensification.intensification.Intensifier:Updated estimated cost of incumbent on 1 runs: 0.1195\n",
      "INFO:smac.intensification.intensification.Intensifier:Updated estimated cost of incumbent on 1 runs: 0.1195\n",
      "INFO:smac.intensification.intensification.Intensifier:Updated estimated cost of incumbent on 1 runs: 0.1195\n",
      "INFO:smac.intensification.intensification.Intensifier:Updated estimated cost of incumbent on 1 runs: 0.1195\n",
      "INFO:smac.intensification.intensification.Intensifier:Updated estimated cost of incumbent on 1 runs: 0.1195\n",
      "INFO:smac.intensification.intensification.Intensifier:Updated estimated cost of incumbent on 1 runs: 0.1195\n",
      "INFO:smac.intensification.intensification.Intensifier:Updated estimated cost of incumbent on 1 runs: 0.1195\n",
      "INFO:smac.intensification.intensification.Intensifier:Updated estimated cost of incumbent on 1 runs: 0.1195\n",
      "INFO:smac.intensification.intensification.Intensifier:Updated estimated cost of incumbent on 1 runs: 0.1195\n",
      "INFO:smac.intensification.intensification.Intensifier:Updated estimated cost of incumbent on 1 runs: 0.1195\n",
      "INFO:smac.intensification.intensification.Intensifier:Updated estimated cost of incumbent on 1 runs: 0.1195\n",
      "INFO:smac.intensification.intensification.Intensifier:Updated estimated cost of incumbent on 1 runs: 0.1195\n",
      "INFO:smac.intensification.intensification.Intensifier:Updated estimated cost of incumbent on 1 runs: 0.1195\n",
      "INFO:smac.intensification.intensification.Intensifier:Updated estimated cost of incumbent on 1 runs: 0.1195\n",
      "INFO:smac.intensification.intensification.Intensifier:Updated estimated cost of incumbent on 1 runs: 0.1195\n",
      "INFO:smac.intensification.intensification.Intensifier:Updated estimated cost of incumbent on 1 runs: 0.1195\n",
      "INFO:smac.intensification.intensification.Intensifier:Updated estimated cost of incumbent on 1 runs: 0.1195\n",
      "INFO:smac.intensification.intensification.Intensifier:Updated estimated cost of incumbent on 1 runs: 0.1195\n",
      "INFO:smac.intensification.intensification.Intensifier:Updated estimated cost of incumbent on 1 runs: 0.1195\n",
      "INFO:smac.intensification.intensification.Intensifier:Updated estimated cost of incumbent on 1 runs: 0.1195\n",
      "INFO:smac.intensification.intensification.Intensifier:Updated estimated cost of incumbent on 1 runs: 0.1195\n",
      "INFO:smac.intensification.intensification.Intensifier:Updated estimated cost of incumbent on 1 runs: 0.1195\n",
      "INFO:smac.intensification.intensification.Intensifier:Updated estimated cost of incumbent on 1 runs: 0.1195\n",
      "INFO:smac.intensification.intensification.Intensifier:Updated estimated cost of incumbent on 1 runs: 0.1195\n",
      "INFO:smac.intensification.intensification.Intensifier:Updated estimated cost of incumbent on 1 runs: 0.1195\n",
      "INFO:smac.intensification.intensification.Intensifier:Updated estimated cost of incumbent on 1 runs: 0.1195\n",
      "INFO:smac.intensification.intensification.Intensifier:Updated estimated cost of incumbent on 1 runs: 0.1195\n",
      "INFO:smac.intensification.intensification.Intensifier:Updated estimated cost of incumbent on 1 runs: 0.1195\n",
      "INFO:smac.intensification.intensification.Intensifier:Updated estimated cost of incumbent on 1 runs: 0.1195\n",
      "INFO:smac.intensification.intensification.Intensifier:Updated estimated cost of incumbent on 1 runs: 0.1195\n",
      "INFO:smac.intensification.intensification.Intensifier:Updated estimated cost of incumbent on 1 runs: 0.1195\n",
      "INFO:smac.intensification.intensification.Intensifier:Updated estimated cost of incumbent on 1 runs: 0.1195\n",
      "INFO:smac.intensification.intensification.Intensifier:Updated estimated cost of incumbent on 1 runs: 0.1195\n",
      "INFO:smac.intensification.intensification.Intensifier:Updated estimated cost of incumbent on 1 runs: 0.1195\n",
      "INFO:smac.intensification.intensification.Intensifier:Updated estimated cost of incumbent on 1 runs: 0.1195\n",
      "INFO:smac.intensification.intensification.Intensifier:Updated estimated cost of incumbent on 1 runs: 0.1195\n",
      "INFO:smac.intensification.intensification.Intensifier:Updated estimated cost of incumbent on 1 runs: 0.1195\n",
      "INFO:smac.intensification.intensification.Intensifier:Updated estimated cost of incumbent on 1 runs: 0.1195\n",
      "INFO:smac.intensification.intensification.Intensifier:Updated estimated cost of incumbent on 1 runs: 0.1195\n",
      "INFO:smac.intensification.intensification.Intensifier:Updated estimated cost of incumbent on 1 runs: 0.1195\n",
      "INFO:smac.intensification.intensification.Intensifier:Challenger (0.1186) is better than incumbent (0.1195) on 1 runs.\n",
      "INFO:smac.intensification.intensification.Intensifier:Changes in incumbent:\n",
      "INFO:smac.intensification.intensification.Intensifier:  learning_rate_init : 0.0941955433387664 -> 0.06699994497637488\n",
      "INFO:smac.intensification.intensification.Intensifier:  momentum : 0.10060450146028602 -> 0.45733799180833257\n",
      "INFO:smac.intensification.intensification.Intensifier:  neurons_1 : 5 -> 1\n",
      "INFO:smac.intensification.intensification.Intensifier:  neurons_2 : 5 -> 1\n",
      "INFO:smac.intensification.intensification.Intensifier:Updated estimated cost of incumbent on 1 runs: 0.1186\n",
      "INFO:smac.intensification.intensification.Intensifier:Updated estimated cost of incumbent on 1 runs: 0.1186\n",
      "INFO:smac.intensification.intensification.Intensifier:Updated estimated cost of incumbent on 1 runs: 0.1186\n",
      "INFO:smac.intensification.intensification.Intensifier:Updated estimated cost of incumbent on 1 runs: 0.1186\n",
      "INFO:smac.intensification.intensification.Intensifier:Updated estimated cost of incumbent on 1 runs: 0.1186\n",
      "INFO:smac.intensification.intensification.Intensifier:Updated estimated cost of incumbent on 1 runs: 0.1186\n",
      "INFO:smac.intensification.intensification.Intensifier:Updated estimated cost of incumbent on 1 runs: 0.1186\n",
      "INFO:smac.intensification.intensification.Intensifier:Updated estimated cost of incumbent on 1 runs: 0.1186\n",
      "INFO:smac.intensification.intensification.Intensifier:Updated estimated cost of incumbent on 1 runs: 0.1186\n",
      "INFO:smac.intensification.intensification.Intensifier:Updated estimated cost of incumbent on 1 runs: 0.1186\n",
      "INFO:smac.intensification.intensification.Intensifier:Updated estimated cost of incumbent on 1 runs: 0.1186\n",
      "INFO:smac.stats.stats.Stats:##########################################################\n",
      "INFO:smac.stats.stats.Stats:Statistics:\n",
      "INFO:smac.stats.stats.Stats:#Incumbent changed: 10\n",
      "INFO:smac.stats.stats.Stats:#Target algorithm runs: 110 / 110.0\n",
      "INFO:smac.stats.stats.Stats:#Configurations: 110\n",
      "INFO:smac.stats.stats.Stats:Used wallclock time: 210.98 / inf sec \n",
      "INFO:smac.stats.stats.Stats:Used target algorithm runtime: 104.22 / inf sec\n",
      "INFO:smac.stats.stats.Stats:##########################################################\n",
      "INFO:smac.facade.smac_hpo_facade.SMAC4HPO:Final Incumbent: Configuration:\n",
      "  learning_rate_init, Value: 0.06699994497637488\n",
      "  momentum, Value: 0.45733799180833257\n",
      "  neurons_1, Value: 1\n",
      "  neurons_2, Value: 1\n",
      "\n",
      "INFO:smac.facade.smac_hpo_facade.SMAC4HPO:Estimated cost of incumbent: 0.118586\n"
     ]
    }
   ],
   "source": [
    "# run HPO with Probability of improvement as acquisition function\n",
    "HPO_PI_2 = run_smac2(acquisition_function=PI)"
   ]
  },
  {
   "cell_type": "code",
   "execution_count": 35,
   "metadata": {
    "colab": {
     "base_uri": "https://localhost:8080/",
     "height": 540
    },
    "colab_type": "code",
    "id": "7-CxxnsDAHEE",
    "outputId": "af0cc5e8-28ad-44d9-f9ce-082e24303587"
   },
   "outputs": [
    {
     "data": {
      "image/png": "[encoded data removed]",
      "text/plain": [
       "<Figure size 1080x576 with 1 Axes>"
      ]
     },
     "metadata": {
      "tags": []
     },
     "output_type": "display_data"
    }
   ],
   "source": [
    "plot_bestseen(res_2, runs=initial_runs2 + further_runs2 )"
   ]
  },
  {
   "cell_type": "code",
   "execution_count": 36,
   "metadata": {
    "colab": {
     "base_uri": "https://localhost:8080/",
     "height": 52
    },
    "colab_type": "code",
    "id": "MfwsYaXRAKtE",
    "outputId": "314e106d-7250-4164-8d0a-5a72a5fdbefd"
   },
   "outputs": [
    {
     "name": "stdout",
     "output_type": "stream",
     "text": [
      "Expected Improvement -> Learning rate: 0.04454725835007655 Momentum: 0.6950744055680251\n",
      "Probability of Improvement -> Learning rate: 0.06699994497637488 Momentum: 0.45733799180833257\n"
     ]
    }
   ],
   "source": [
    "print('Expected Improvement -> Learning rate:',res_2['HPO - EI']['best'][0],'Momentum:',res_2['HPO - EI']['best'][1])\n",
    "print('Probability of Improvement -> Learning rate:',res_2['HPO - PI']['best'][0],'Momentum:',res_2['HPO - PI']['best'][1]) "
   ]
  }
 ],
 "metadata": {
  "accelerator": "GPU",
  "colab": {
   "collapsed_sections": [
    "n3mTKtw9w4qm",
    "t_ffIUfhxj0s"
   ],
   "name": "Untitled1.ipynb",
   "provenance": []
  },
  "kernelspec": {
   "display_name": "Python 3",
   "language": "python",
   "name": "python3"
  },
  "language_info": {
   "codemirror_mode": {
    "name": "ipython",
    "version": 3
   },
   "file_extension": ".py",
   "mimetype": "text/x-python",
   "name": "python",
   "nbconvert_exporter": "python",
   "pygments_lexer": "ipython3",
   "version": "3.7.5"
  }
 },
 "nbformat": 4,
 "nbformat_minor": 1
}
