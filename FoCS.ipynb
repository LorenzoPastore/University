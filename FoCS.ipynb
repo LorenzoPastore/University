{
 "cells": [
  {
   "cell_type": "markdown",
   "metadata": {},
   "source": [
    "# Project FOCS - Kiva Dataset"
   ]
  },
  {
   "cell_type": "code",
   "execution_count": 3,
   "metadata": {},
   "outputs": [],
   "source": [
    "import pandas as pd\n",
    "import numpy as np\n",
    "import re\n",
    "import random\n",
    "import datetime as dt\n",
    "import qgrid\n",
    "import time\n",
    "import matplotlib.pyplot as plt\n",
    "import seaborn as sns"
   ]
  },
  {
   "cell_type": "markdown",
   "metadata": {},
   "source": [
    "# Guidelines and tasks\n",
    "\n",
    "You have to work on the Kiva dataset. Some information on the datasets are on the Kaggle web page.\n",
    "\n",
    "All groups and individual must do the following:\n",
    "- Normalize the loan_lenders table. In the normalized table, each row must have one loan_id and one lender.\n",
    "- For each loan, add a column duration corresponding to the number of days between the disburse time and the planned expiration time. If any of those two dates is missing, also the duration must be missing.\n",
    "- Find the lenders that have funded at least twice.\n",
    "- For each country, compute how many loans have involved that country as borrowers.\n",
    "- For each country, compute the overall amount of money borrowed.\n",
    "- Like the previous point, but expressed as a percentage of the overall amount lent.\n",
    "- Like the three previous points, but split for each year (with respect to disburse time).\n",
    "- For each lender, compute the overall amount of money lent. For each loan that has more than one lender, you must assume that all lenders contributed the same amount.\n",
    "- For each country, compute the difference between the overall amount of money lent and the overall amount of money borrowed. Since the country of the lender is often unknown, you can assume that the true distribution among the countries is the same as the one computed from the rows where the country is known.\n",
    "- Which country has the highest ratio between the difference computed at the previous point and the population?\n",
    "- Which country has the highest ratio between the difference computed at point 9 and the population that is not below the poverty line?\n",
    "- For each year, compute the total amount of loans. Each loan that has planned expiration time and disburse time in different years must have its amount distributed proportionally to the number of days in each year. For example, a loan with disburse time December 1st, 2016, planned expiration time January 30th 2018, and amount 5000USD has an amount of 5000USD * 31 / (31+365+30) = 363.85 for 2016, 5000USD * 365 / (31+365+30) = 4284.04 for 2017, and 5000USD * 30 / (31+365+30) = 352.11 for 2018."
   ]
  },
  {
   "cell_type": "markdown",
   "metadata": {
    "heading_collapsed": true
   },
   "source": [
    "### Task 1 \n",
    "\n",
    "Normalize the loan_lenders table. In the normalized table, each row must have one loan_id and one lender."
   ]
  },
  {
   "cell_type": "code",
   "execution_count": 5,
   "metadata": {
    "hidden": true
   },
   "outputs": [
    {
     "output_type": "execute_result",
     "data": {
      "text/plain": "   loan_id                                            lenders\n0   483693  muc888, sam4326, camaran3922, lachheb1865, reb...\n1   483738  muc888, nora3555, williammanashi, barbara5610,...\n2   485000  muc888, terrystl, richardandsusan8352, sherri4...\n3   486087  muc888, james5068, rudi5955, daniel9859, don92...\n4   534428  muc888, niki3008, teresa9174, mike4896, david7...",
      "text/html": "<div>\n<style scoped>\n    .dataframe tbody tr th:only-of-type {\n        vertical-align: middle;\n    }\n\n    .dataframe tbody tr th {\n        vertical-align: top;\n    }\n\n    .dataframe thead th {\n        text-align: right;\n    }\n</style>\n<table border=\"1\" class=\"dataframe\">\n  <thead>\n    <tr style=\"text-align: right;\">\n      <th></th>\n      <th>loan_id</th>\n      <th>lenders</th>\n    </tr>\n  </thead>\n  <tbody>\n    <tr>\n      <th>0</th>\n      <td>483693</td>\n      <td>muc888, sam4326, camaran3922, lachheb1865, reb...</td>\n    </tr>\n    <tr>\n      <th>1</th>\n      <td>483738</td>\n      <td>muc888, nora3555, williammanashi, barbara5610,...</td>\n    </tr>\n    <tr>\n      <th>2</th>\n      <td>485000</td>\n      <td>muc888, terrystl, richardandsusan8352, sherri4...</td>\n    </tr>\n    <tr>\n      <th>3</th>\n      <td>486087</td>\n      <td>muc888, james5068, rudi5955, daniel9859, don92...</td>\n    </tr>\n    <tr>\n      <th>4</th>\n      <td>534428</td>\n      <td>muc888, niki3008, teresa9174, mike4896, david7...</td>\n    </tr>\n  </tbody>\n</table>\n</div>"
     },
     "metadata": {},
     "execution_count": 5
    }
   ],
   "source": [
    "# The direct link to the Kaggle data set\n",
    "loans_lenders = pd.read_csv('additional-kiva-snapshot/loans_lenders.csv')\n",
    "loans_lenders.head(5)"
   ]
  },
  {
   "cell_type": "code",
   "execution_count": 6,
   "metadata": {
    "hidden": true,
    "tags": []
   },
   "outputs": [
    {
     "output_type": "stream",
     "name": "stdout",
     "text": "Tempo di esecuzione: 18.28634023666382\n"
    }
   ],
   "source": [
    "start_time = time.time()\n",
    "\n",
    "loans_lenders_norm = (loans_lenders.set_index(['loan_id'])\n",
    "                      .apply(lambda x: x.str.split(',').explode())\n",
    "                      .reset_index())\n",
    "\n",
    "end_time = time.time()\n",
    "print('Tempo di esecuzione:',end_time-start_time)"
   ]
  },
  {
   "cell_type": "code",
   "execution_count": 7,
   "metadata": {
    "hidden": true,
    "tags": []
   },
   "outputs": [
    {
     "output_type": "stream",
     "name": "stdout",
     "text": "Tempo di esecuzione: 15.740858793258667\n"
    }
   ],
   "source": [
    "start_time = time.time()\n",
    "\n",
    "#Using the explode function to normalize the table to find a faster alternative\n",
    "loans_lenders_norm = loans_lenders.assign(lenders=loans_lenders['lenders'].str.split(',')).explode('lenders')\n",
    "loans_lenders_norm = loans_lenders_norm.reset_index(drop=True)\n",
    "\n",
    "end_time = time.time()\n",
    "print('Tempo di esecuzione:',end_time-start_time)"
   ]
  },
  {
   "cell_type": "code",
   "execution_count": 8,
   "metadata": {
    "hidden": true
   },
   "outputs": [
    {
     "output_type": "execute_result",
     "data": {
      "text/plain": "   loan_id   lenders\n0   483693    muc888\n1   483693   sam4326",
      "text/html": "<div>\n<style scoped>\n    .dataframe tbody tr th:only-of-type {\n        vertical-align: middle;\n    }\n\n    .dataframe tbody tr th {\n        vertical-align: top;\n    }\n\n    .dataframe thead th {\n        text-align: right;\n    }\n</style>\n<table border=\"1\" class=\"dataframe\">\n  <thead>\n    <tr style=\"text-align: right;\">\n      <th></th>\n      <th>loan_id</th>\n      <th>lenders</th>\n    </tr>\n  </thead>\n  <tbody>\n    <tr>\n      <th>0</th>\n      <td>483693</td>\n      <td>muc888</td>\n    </tr>\n    <tr>\n      <th>1</th>\n      <td>483693</td>\n      <td>sam4326</td>\n    </tr>\n  </tbody>\n</table>\n</div>"
     },
     "metadata": {},
     "execution_count": 8
    }
   ],
   "source": [
    "loans_lenders_norm.head(2)"
   ]
  },
  {
   "cell_type": "markdown",
   "metadata": {},
   "source": [
    "### Task 2 \n",
    "For each loan, add a column duration corresponding to the number of days between the disburse time and the planned expiration time. If any of those two dates is missing, also the duration must be missing."
   ]
  },
  {
   "cell_type": "code",
   "execution_count": 9,
   "metadata": {},
   "outputs": [],
   "source": [
    "loans = pd.read_csv('additional-kiva-snapshot/loans.csv', parse_dates = ['planned_expiration_time', 'disburse_time'])"
   ]
  },
  {
   "cell_type": "code",
   "execution_count": 10,
   "metadata": {
    "tags": []
   },
   "outputs": [
    {
     "output_type": "stream",
     "name": "stdout",
     "text": "Formato planned_expiration_time: datetime64[ns, UTC]\nFormato disburse_time: datetime64[ns, UTC]\n"
    }
   ],
   "source": [
    "#Verify columns format\n",
    "print('Formato planned_expiration_time:',loans['planned_expiration_time'].dtype)\n",
    "print('Formato disburse_time:',loans['disburse_time'].dtype)"
   ]
  },
  {
   "cell_type": "code",
   "execution_count": 11,
   "metadata": {},
   "outputs": [],
   "source": [
    "#Creation of column 'duration'\n",
    "loans['duration'] = (loans['planned_expiration_time']-loans['disburse_time']).dt.days"
   ]
  },
  {
   "cell_type": "code",
   "execution_count": 12,
   "metadata": {},
   "outputs": [
    {
     "output_type": "execute_result",
     "data": {
      "text/plain": "         duration planned_expiration_time             disburse_time\n64            NaN                     NaT 2010-11-18 08:00:00+00:00\n65            NaN                     NaT 2010-11-25 08:00:00+00:00\n66            NaN                     NaT 2010-11-25 08:00:00+00:00\n67            NaN                     NaT 2010-11-16 08:00:00+00:00\n69            NaN                     NaT 2010-11-10 08:00:00+00:00\n...           ...                     ...                       ...\n1418885       NaN                     NaT 2010-04-09 07:00:00+00:00\n1418886       NaN                     NaT 2010-03-26 07:00:00+00:00\n1418887       NaN                     NaT 2010-04-07 07:00:00+00:00\n1418888       NaN                     NaT 2010-04-14 07:00:00+00:00\n1419523       NaN                     NaT 2005-04-14 05:27:55+00:00\n\n[371834 rows x 3 columns]",
      "text/html": "<div>\n<style scoped>\n    .dataframe tbody tr th:only-of-type {\n        vertical-align: middle;\n    }\n\n    .dataframe tbody tr th {\n        vertical-align: top;\n    }\n\n    .dataframe thead th {\n        text-align: right;\n    }\n</style>\n<table border=\"1\" class=\"dataframe\">\n  <thead>\n    <tr style=\"text-align: right;\">\n      <th></th>\n      <th>duration</th>\n      <th>planned_expiration_time</th>\n      <th>disburse_time</th>\n    </tr>\n  </thead>\n  <tbody>\n    <tr>\n      <th>64</th>\n      <td>NaN</td>\n      <td>NaT</td>\n      <td>2010-11-18 08:00:00+00:00</td>\n    </tr>\n    <tr>\n      <th>65</th>\n      <td>NaN</td>\n      <td>NaT</td>\n      <td>2010-11-25 08:00:00+00:00</td>\n    </tr>\n    <tr>\n      <th>66</th>\n      <td>NaN</td>\n      <td>NaT</td>\n      <td>2010-11-25 08:00:00+00:00</td>\n    </tr>\n    <tr>\n      <th>67</th>\n      <td>NaN</td>\n      <td>NaT</td>\n      <td>2010-11-16 08:00:00+00:00</td>\n    </tr>\n    <tr>\n      <th>69</th>\n      <td>NaN</td>\n      <td>NaT</td>\n      <td>2010-11-10 08:00:00+00:00</td>\n    </tr>\n    <tr>\n      <th>...</th>\n      <td>...</td>\n      <td>...</td>\n      <td>...</td>\n    </tr>\n    <tr>\n      <th>1418885</th>\n      <td>NaN</td>\n      <td>NaT</td>\n      <td>2010-04-09 07:00:00+00:00</td>\n    </tr>\n    <tr>\n      <th>1418886</th>\n      <td>NaN</td>\n      <td>NaT</td>\n      <td>2010-03-26 07:00:00+00:00</td>\n    </tr>\n    <tr>\n      <th>1418887</th>\n      <td>NaN</td>\n      <td>NaT</td>\n      <td>2010-04-07 07:00:00+00:00</td>\n    </tr>\n    <tr>\n      <th>1418888</th>\n      <td>NaN</td>\n      <td>NaT</td>\n      <td>2010-04-14 07:00:00+00:00</td>\n    </tr>\n    <tr>\n      <th>1419523</th>\n      <td>NaN</td>\n      <td>NaT</td>\n      <td>2005-04-14 05:27:55+00:00</td>\n    </tr>\n  </tbody>\n</table>\n<p>371834 rows × 3 columns</p>\n</div>"
     },
     "metadata": {},
     "execution_count": 12
    }
   ],
   "source": [
    "check = loans[['duration','planned_expiration_time','disburse_time']]\n",
    "check[check.planned_expiration_time.isnull() == True]"
   ]
  },
  {
   "cell_type": "code",
   "execution_count": 13,
   "metadata": {},
   "outputs": [
    {
     "output_type": "execute_result",
     "data": {
      "text/plain": "0    53.0\n1    96.0\n2    37.0\n3    34.0\n4    57.0\nName: duration, dtype: float64"
     },
     "metadata": {},
     "execution_count": 13
    }
   ],
   "source": [
    "loans['duration'].head()"
   ]
  },
  {
   "cell_type": "markdown",
   "metadata": {},
   "source": [
    "### Task 3\n",
    "Find the lenders that have funded at least twice."
   ]
  },
  {
   "cell_type": "code",
   "execution_count": 14,
   "metadata": {
    "scrolled": false
   },
   "outputs": [
    {
     "output_type": "execute_result",
     "data": {
      "text/plain": "gooddogg1           167512\ntrolltech4460       141268\ngmct                123164\nnms                  96713\nthemissionbeltco     74067\n                     ...  \ndouglas3061              2\nkalsoom6555              2\ntara37509030             2\njason2566                2\nmatthew4252              2\nName: lenders, Length: 893981, dtype: int64"
     },
     "metadata": {},
     "execution_count": 14
    }
   ],
   "source": [
    "#Find funded loans\n",
    "loans_funded = loans[loans['status'] == 'funded']\n",
    "#Merge with lenders table by loan ID\n",
    "loans_funded_merged = pd.merge(loans_funded['loan_id'], loans_lenders_norm, on='loan_id')\n",
    "#Normalize lenders name which sometimes have space in the field\n",
    "loans_funded_merged['lenders'] = loans_funded_merged['lenders'].str.strip()\n",
    "#Identify lenders with more than one loan funded\n",
    "loans_funded_twice = loans_funded_merged['lenders'].value_counts()\n",
    "loans_funded_twice[loans_funded_twice >= 2]"
   ]
  },
  {
   "cell_type": "code",
   "execution_count": 15,
   "metadata": {},
   "outputs": [
    {
     "output_type": "execute_result",
     "data": {
      "text/plain": "gooddogg1           167512\ntrolltech4460       141268\ngmct                123164\nnms                  96713\nthemissionbeltco     74067\n                     ...  \ndouglas3061              2\nkalsoom6555              2\ntara37509030             2\njason2566                2\nmatthew4252              2\nName: lenders, Length: 893981, dtype: int64"
     },
     "metadata": {},
     "execution_count": 15
    }
   ],
   "source": [
    "#Verify value counts\n",
    "loans_funded_merged['lenders'].value_counts().loc[lambda x: x >= 2]"
   ]
  },
  {
   "cell_type": "markdown",
   "metadata": {},
   "source": [
    "### Task 4\n",
    "For each country, compute how many loans have involved that country as borrowers."
   ]
  },
  {
   "cell_type": "code",
   "execution_count": 16,
   "metadata": {},
   "outputs": [
    {
     "output_type": "execute_result",
     "data": {
      "text/plain": "Index(['loan_id', 'loan_name', 'original_language', 'description',\n       'description_translated', 'funded_amount', 'loan_amount', 'status',\n       'activity_name', 'sector_name', 'loan_use', 'country_code',\n       'country_name', 'town_name', 'currency_policy',\n       'currency_exchange_coverage_rate', 'currency', 'partner_id',\n       'posted_time', 'planned_expiration_time', 'disburse_time',\n       'raised_time', 'lender_term', 'num_lenders_total',\n       'num_journal_entries', 'num_bulk_entries', 'tags', 'borrower_genders',\n       'borrower_pictured', 'repayment_interval', 'distribution_model',\n       'duration'],\n      dtype='object')"
     },
     "metadata": {},
     "execution_count": 16
    }
   ],
   "source": [
    "#Idetify the column name\n",
    "loans.columns "
   ]
  },
  {
   "cell_type": "code",
   "execution_count": 17,
   "metadata": {},
   "outputs": [
    {
     "output_type": "execute_result",
     "data": {
      "text/plain": "Philippines         285336\nKenya               143699\nPeru                 86000\nCambodia             79701\nEl Salvador          64037\n                     ...  \nPapua New Guinea         1\nBotswana                 1\nUruguay                  1\nMauritania               1\nCanada                   1\nName: country_name, Length: 96, dtype: int64"
     },
     "metadata": {},
     "execution_count": 17
    }
   ],
   "source": [
    "#Computing the values counts\n",
    "loans['country_name'].str.strip().value_counts()"
   ]
  },
  {
   "cell_type": "markdown",
   "metadata": {},
   "source": [
    "### Task 5\n",
    "For each country, compute the overall amount of money borrowed."
   ]
  },
  {
   "cell_type": "code",
   "execution_count": 18,
   "metadata": {},
   "outputs": [
    {
     "output_type": "execute_result",
     "data": {
      "text/plain": "country_name\nPhilippines       97984600.0\nPeru              79437775.0\nKenya             66735975.0\nParaguay          53964700.0\nCambodia          51613525.0\n                     ...    \nVirgin Islands       10000.0\nVanuatu               9250.0\nBotswana              8000.0\nUruguay               8000.0\nGaza                  5000.0\nName: loan_amount, Length: 96, dtype: float64"
     },
     "metadata": {},
     "execution_count": 18
    }
   ],
   "source": [
    "#Compute the overall amount of loans value\n",
    "loans.groupby('country_name')['loan_amount'].sum().sort_values(ascending=False)"
   ]
  },
  {
   "cell_type": "markdown",
   "metadata": {},
   "source": [
    "### Task 6\n",
    "Like the previous point, but expressed as a percentage of the overall amount lent."
   ]
  },
  {
   "cell_type": "code",
   "execution_count": 19,
   "metadata": {},
   "outputs": [
    {
     "output_type": "execute_result",
     "data": {
      "text/plain": "country_name\nPhilippines       8.669783\nPeru              7.028740\nKenya             5.904871\nParaguay          4.774855\nCambodia          4.566820\n                    ...   \nVirgin Islands    0.000885\nVanuatu           0.000818\nBotswana          0.000708\nUruguay           0.000708\nGaza              0.000442\nName: loan_amount, Length: 96, dtype: float64"
     },
     "metadata": {},
     "execution_count": 19
    }
   ],
   "source": [
    "(loans.groupby('country_name')['loan_amount'].sum()/ loans['funded_amount'].sum() * 100).sort_values(ascending=False)"
   ]
  },
  {
   "cell_type": "markdown",
   "metadata": {},
   "source": [
    "### Task 7\n",
    "Like the three previous points, but split for each year (with respect to disburse time)."
   ]
  },
  {
   "cell_type": "code",
   "execution_count": 20,
   "metadata": {},
   "outputs": [],
   "source": [
    "#Add one column with the reference year\n",
    "loans['disburse_year'] = pd.DatetimeIndex(loans['disburse_time']).year"
   ]
  },
  {
   "cell_type": "code",
   "execution_count": 21,
   "metadata": {
    "scrolled": true
   },
   "outputs": [
    {
     "output_type": "execute_result",
     "data": {
      "text/plain": "disburse_year  country_name\n2005.0         Bulgaria         1.798736\n               Cambodia         1.579971\n               Ecuador          4.861449\n               Gaza             4.861449\n               Honduras        32.377248\n                                 ...    \n2018.0         Tanzania         1.853412\n               Thailand         3.434645\n               Uganda           2.819001\n               Uruguay          1.036874\n               Zambia           1.811289\nLength: 748, dtype: float64"
     },
     "metadata": {},
     "execution_count": 21
    }
   ],
   "source": [
    "(loans.groupby(['disburse_year','country_name'])['loan_amount'].sum() / \n",
    "loans.groupby(['disburse_year'])['funded_amount'].sum() *100)"
   ]
  },
  {
   "cell_type": "markdown",
   "metadata": {},
   "source": [
    "### Task 8\n",
    "For each lender, compute the overall amount of money lent. For each loan that has more than one lender, you must assume that all lenders contributed the same amount."
   ]
  },
  {
   "cell_type": "code",
   "execution_count": 22,
   "metadata": {},
   "outputs": [],
   "source": [
    "#compute the number of lenders in each loans using loans ID\n",
    "lenders_in_loan = loans_lenders_norm.groupby('loan_id').size().reset_index(name = 'counts')\n",
    "#Merge to the df the loans amount and the funded amount by loans ID\n",
    "lenders_in_loan = pd.merge(lenders_in_loan, loans[['loan_id', 'funded_amount']], on = 'loan_id')\n",
    "#computing the average contribution for each loan considering the effective amount funded\n",
    "lenders_in_loan['average_funded'] = lenders_in_loan['funded_amount'] / lenders_in_loan['counts']"
   ]
  },
  {
   "cell_type": "code",
   "execution_count": 23,
   "metadata": {},
   "outputs": [
    {
     "output_type": "execute_result",
     "data": {
      "text/plain": "   loan_id  counts  funded_amount  average_funded\n0       84       3          500.0      166.666667\n1       85       2          500.0      250.000000\n2       86       3          500.0      166.666667\n3       88       3          300.0      100.000000\n4       89       4          500.0      125.000000",
      "text/html": "<div>\n<style scoped>\n    .dataframe tbody tr th:only-of-type {\n        vertical-align: middle;\n    }\n\n    .dataframe tbody tr th {\n        vertical-align: top;\n    }\n\n    .dataframe thead th {\n        text-align: right;\n    }\n</style>\n<table border=\"1\" class=\"dataframe\">\n  <thead>\n    <tr style=\"text-align: right;\">\n      <th></th>\n      <th>loan_id</th>\n      <th>counts</th>\n      <th>funded_amount</th>\n      <th>average_funded</th>\n    </tr>\n  </thead>\n  <tbody>\n    <tr>\n      <th>0</th>\n      <td>84</td>\n      <td>3</td>\n      <td>500.0</td>\n      <td>166.666667</td>\n    </tr>\n    <tr>\n      <th>1</th>\n      <td>85</td>\n      <td>2</td>\n      <td>500.0</td>\n      <td>250.000000</td>\n    </tr>\n    <tr>\n      <th>2</th>\n      <td>86</td>\n      <td>3</td>\n      <td>500.0</td>\n      <td>166.666667</td>\n    </tr>\n    <tr>\n      <th>3</th>\n      <td>88</td>\n      <td>3</td>\n      <td>300.0</td>\n      <td>100.000000</td>\n    </tr>\n    <tr>\n      <th>4</th>\n      <td>89</td>\n      <td>4</td>\n      <td>500.0</td>\n      <td>125.000000</td>\n    </tr>\n  </tbody>\n</table>\n</div>"
     },
     "metadata": {},
     "execution_count": 23
    }
   ],
   "source": [
    "lenders_in_loan.head()"
   ]
  },
  {
   "cell_type": "code",
   "execution_count": 24,
   "metadata": {},
   "outputs": [],
   "source": [
    "#Normalize lenders name which sometimes have space in the field\n",
    "loans_lenders_norm['lenders'] = loans_lenders_norm['lenders'].str.strip()\n",
    "#Merge the lenders_in_loan table with the loans_lenders table in loan ID\n",
    "lenders_avg_loans = pd.merge(loans_lenders_norm, lenders_in_loan[['loan_id', 'average_funded']], on = 'loan_id')\n",
    "#Compute the overall amount of money lent by each lenders\n",
    "lended_by_lenders = lenders_avg_loans.groupby('lenders')['average_funded'].sum().reset_index(name = 'amount_lended')"
   ]
  },
  {
   "cell_type": "code",
   "execution_count": 25,
   "metadata": {},
   "outputs": [
    {
     "output_type": "execute_result",
     "data": {
      "text/plain": "          lenders  amount_lended\n0             000    1703.868411\n1           00000    1379.750248\n2            0002    2472.563566\n3        00mike00      52.631579\n4  0101craign0101    2623.565117\n5         0132575     117.678140\n6         0154884     136.342116\n7         0161130      74.779412",
      "text/html": "<div>\n<style scoped>\n    .dataframe tbody tr th:only-of-type {\n        vertical-align: middle;\n    }\n\n    .dataframe tbody tr th {\n        vertical-align: top;\n    }\n\n    .dataframe thead th {\n        text-align: right;\n    }\n</style>\n<table border=\"1\" class=\"dataframe\">\n  <thead>\n    <tr style=\"text-align: right;\">\n      <th></th>\n      <th>lenders</th>\n      <th>amount_lended</th>\n    </tr>\n  </thead>\n  <tbody>\n    <tr>\n      <th>0</th>\n      <td>000</td>\n      <td>1703.868411</td>\n    </tr>\n    <tr>\n      <th>1</th>\n      <td>00000</td>\n      <td>1379.750248</td>\n    </tr>\n    <tr>\n      <th>2</th>\n      <td>0002</td>\n      <td>2472.563566</td>\n    </tr>\n    <tr>\n      <th>3</th>\n      <td>00mike00</td>\n      <td>52.631579</td>\n    </tr>\n    <tr>\n      <th>4</th>\n      <td>0101craign0101</td>\n      <td>2623.565117</td>\n    </tr>\n    <tr>\n      <th>5</th>\n      <td>0132575</td>\n      <td>117.678140</td>\n    </tr>\n    <tr>\n      <th>6</th>\n      <td>0154884</td>\n      <td>136.342116</td>\n    </tr>\n    <tr>\n      <th>7</th>\n      <td>0161130</td>\n      <td>74.779412</td>\n    </tr>\n  </tbody>\n</table>\n</div>"
     },
     "metadata": {},
     "execution_count": 25
    }
   ],
   "source": [
    "lended_by_lenders.head(8)"
   ]
  },
  {
   "cell_type": "markdown",
   "metadata": {},
   "source": [
    "### Task 9\n",
    "For each country, compute the difference between the overall amount of money lent and the overall amount of money borrowed. \n",
    "\n",
    "Since the country of the lender is often unknown, you can assume that the true distribution among the countries is the same as the one computed from the rows where the country is known."
   ]
  },
  {
   "cell_type": "code",
   "execution_count": 26,
   "metadata": {},
   "outputs": [],
   "source": [
    "lenders = pd.read_csv('additional-kiva-snapshot/lenders.csv')"
   ]
  },
  {
   "cell_type": "code",
   "execution_count": 27,
   "metadata": {},
   "outputs": [
    {
     "output_type": "execute_result",
     "data": {
      "text/plain": "True     1458635\nFalse     890539\nName: country_code, dtype: int64"
     },
     "metadata": {},
     "execution_count": 27
    }
   ],
   "source": [
    "#Compute the number of missing country_code \n",
    "lenders['country_code'].isnull().value_counts()"
   ]
  },
  {
   "cell_type": "code",
   "execution_count": 28,
   "metadata": {
    "scrolled": true
   },
   "outputs": [
    {
     "output_type": "execute_result",
     "data": {
      "text/plain": "US    591612\nCA     67970\nGB     38380\nAU     37103\nDE     16007\n       ...  \nNU         1\nIO         1\nKM         1\nMS         1\nGW         1\nName: country_code, Length: 234, dtype: int64"
     },
     "metadata": {},
     "execution_count": 28
    }
   ],
   "source": [
    "#Known country_code distribution\n",
    "lenders['country_code'].dropna().value_counts()"
   ]
  },
  {
   "cell_type": "code",
   "execution_count": 29,
   "metadata": {},
   "outputs": [],
   "source": [
    "def fill_lenders(lenders):\n",
    "    random.seed(42)\n",
    "    country_code = pd.unique(lenders['country_code'].dropna())\n",
    "    #Definying probability according to known country code distribution\n",
    "    probs = lenders['country_code'].dropna().value_counts() / len(lenders['country_code'].dropna())\n",
    "    #Number of missing country_code\n",
    "    n = len(lenders[pd.isnull(lenders['country_code'])])\n",
    "    #Indexing missing country_code\n",
    "    index = lenders.index[lenders['country_code'].isnull()]\n",
    "    random_elements = pd.Series(np.random.choice(country_code, p = probs, size = n), index = index)\n",
    "    lenders['country_code'].fillna(random_elements, inplace = True)\n",
    "    return(lenders)\n",
    "\n",
    "lenders = fill_lenders(lenders)"
   ]
  },
  {
   "cell_type": "code",
   "execution_count": 30,
   "metadata": {},
   "outputs": [
    {
     "output_type": "execute_result",
     "data": {
      "text/plain": "False    2349174\nName: country_code, dtype: int64"
     },
     "metadata": {},
     "execution_count": 30
    }
   ],
   "source": [
    "#Verify that all missing where replaced\n",
    "lenders['country_code'].isnull().value_counts()"
   ]
  },
  {
   "cell_type": "code",
   "execution_count": 31,
   "metadata": {},
   "outputs": [
    {
     "output_type": "execute_result",
     "data": {
      "text/plain": "   permanent_name display_name city state country_code  member_since  \\\n0        qian3013         Qian  NaN   NaN           US    1461300457   \n1       reena6733        Reena  NaN   NaN           US    1461300634   \n2         mai5982          Mai  NaN   NaN           US    1461300853   \n3  andrew86079135       Andrew  NaN   NaN           SK    1461301091   \n4      nguyen6962       Nguyen  NaN   NaN           US    1461301154   \n\n  occupation loan_because  loan_purchase_num invited_by  num_invited  \n0        NaN          NaN                1.0        NaN            0  \n1        NaN          NaN                9.0        NaN            0  \n2        NaN          NaN                NaN        NaN            0  \n3        NaN          NaN                5.0  Peter Tan            0  \n4        NaN          NaN                NaN        NaN            0  ",
      "text/html": "<div>\n<style scoped>\n    .dataframe tbody tr th:only-of-type {\n        vertical-align: middle;\n    }\n\n    .dataframe tbody tr th {\n        vertical-align: top;\n    }\n\n    .dataframe thead th {\n        text-align: right;\n    }\n</style>\n<table border=\"1\" class=\"dataframe\">\n  <thead>\n    <tr style=\"text-align: right;\">\n      <th></th>\n      <th>permanent_name</th>\n      <th>display_name</th>\n      <th>city</th>\n      <th>state</th>\n      <th>country_code</th>\n      <th>member_since</th>\n      <th>occupation</th>\n      <th>loan_because</th>\n      <th>loan_purchase_num</th>\n      <th>invited_by</th>\n      <th>num_invited</th>\n    </tr>\n  </thead>\n  <tbody>\n    <tr>\n      <th>0</th>\n      <td>qian3013</td>\n      <td>Qian</td>\n      <td>NaN</td>\n      <td>NaN</td>\n      <td>US</td>\n      <td>1461300457</td>\n      <td>NaN</td>\n      <td>NaN</td>\n      <td>1.0</td>\n      <td>NaN</td>\n      <td>0</td>\n    </tr>\n    <tr>\n      <th>1</th>\n      <td>reena6733</td>\n      <td>Reena</td>\n      <td>NaN</td>\n      <td>NaN</td>\n      <td>US</td>\n      <td>1461300634</td>\n      <td>NaN</td>\n      <td>NaN</td>\n      <td>9.0</td>\n      <td>NaN</td>\n      <td>0</td>\n    </tr>\n    <tr>\n      <th>2</th>\n      <td>mai5982</td>\n      <td>Mai</td>\n      <td>NaN</td>\n      <td>NaN</td>\n      <td>US</td>\n      <td>1461300853</td>\n      <td>NaN</td>\n      <td>NaN</td>\n      <td>NaN</td>\n      <td>NaN</td>\n      <td>0</td>\n    </tr>\n    <tr>\n      <th>3</th>\n      <td>andrew86079135</td>\n      <td>Andrew</td>\n      <td>NaN</td>\n      <td>NaN</td>\n      <td>SK</td>\n      <td>1461301091</td>\n      <td>NaN</td>\n      <td>NaN</td>\n      <td>5.0</td>\n      <td>Peter Tan</td>\n      <td>0</td>\n    </tr>\n    <tr>\n      <th>4</th>\n      <td>nguyen6962</td>\n      <td>Nguyen</td>\n      <td>NaN</td>\n      <td>NaN</td>\n      <td>US</td>\n      <td>1461301154</td>\n      <td>NaN</td>\n      <td>NaN</td>\n      <td>NaN</td>\n      <td>NaN</td>\n      <td>0</td>\n    </tr>\n  </tbody>\n</table>\n</div>"
     },
     "metadata": {},
     "execution_count": 31
    }
   ],
   "source": [
    "#Identify the lender's name column\n",
    "lenders.head()"
   ]
  },
  {
   "cell_type": "code",
   "execution_count": 32,
   "metadata": {
    "scrolled": true
   },
   "outputs": [],
   "source": [
    "#Merge lended_by_lenders table and lenders by lenders name\n",
    "df_merged = pd.merge(lended_by_lenders, lenders[['permanent_name', 'country_code']], left_on='lenders', right_on='permanent_name')\n",
    "#Group amount lended by country \n",
    "lended_by_country = df_merged.groupby('country_code')['amount_lended'].sum().reset_index(name='lent')\n",
    "#Compute the amount of money received by each country\n",
    "received_by_country = loans.groupby(['country_code'])['funded_amount'].sum().reset_index(name='received')\n",
    "#Merge lended_by_country table and received_by_country table by country code \n",
    "received_lended_by_country = pd.merge(lended_by_country, received_by_country, on = 'country_code', how = 'outer')\n",
    "received_lended_by_country.fillna(0, inplace = True)\n",
    "#Compute the column 'difference' as difference between money lent and money borrowed\n",
    "received_lended_by_country['difference'] = received_lended_by_country['lent'] - received_lended_by_country['received']"
   ]
  },
  {
   "cell_type": "code",
   "execution_count": 33,
   "metadata": {},
   "outputs": [
    {
     "output_type": "execute_result",
     "data": {
      "text/plain": "    country_code          lent    received    difference\n216           US  6.832401e+08  36365340.0  6.468748e+08\n35            CA  7.668173e+07     50000.0  7.663173e+07\n13            AU  5.893864e+07         0.0  5.893864e+07\n72            GB  4.760091e+07         0.0  4.760091e+07\n52            DE  3.210768e+07         0.0  3.210768e+07\n..           ...           ...         ...           ...\n108           KH  1.109534e+05  50829425.0 -5.071847e+07\n172           PY  1.131823e+05  53715200.0 -5.360202e+07\n106           KE  3.441059e+05  63650255.0 -6.330615e+07\n161           PE  1.275406e+05  78702800.0 -7.857526e+07\n164           PH  8.281219e+05  97045925.0 -9.621780e+07\n\n[235 rows x 4 columns]",
      "text/html": "<div>\n<style scoped>\n    .dataframe tbody tr th:only-of-type {\n        vertical-align: middle;\n    }\n\n    .dataframe tbody tr th {\n        vertical-align: top;\n    }\n\n    .dataframe thead th {\n        text-align: right;\n    }\n</style>\n<table border=\"1\" class=\"dataframe\">\n  <thead>\n    <tr style=\"text-align: right;\">\n      <th></th>\n      <th>country_code</th>\n      <th>lent</th>\n      <th>received</th>\n      <th>difference</th>\n    </tr>\n  </thead>\n  <tbody>\n    <tr>\n      <th>216</th>\n      <td>US</td>\n      <td>6.832401e+08</td>\n      <td>36365340.0</td>\n      <td>6.468748e+08</td>\n    </tr>\n    <tr>\n      <th>35</th>\n      <td>CA</td>\n      <td>7.668173e+07</td>\n      <td>50000.0</td>\n      <td>7.663173e+07</td>\n    </tr>\n    <tr>\n      <th>13</th>\n      <td>AU</td>\n      <td>5.893864e+07</td>\n      <td>0.0</td>\n      <td>5.893864e+07</td>\n    </tr>\n    <tr>\n      <th>72</th>\n      <td>GB</td>\n      <td>4.760091e+07</td>\n      <td>0.0</td>\n      <td>4.760091e+07</td>\n    </tr>\n    <tr>\n      <th>52</th>\n      <td>DE</td>\n      <td>3.210768e+07</td>\n      <td>0.0</td>\n      <td>3.210768e+07</td>\n    </tr>\n    <tr>\n      <th>...</th>\n      <td>...</td>\n      <td>...</td>\n      <td>...</td>\n      <td>...</td>\n    </tr>\n    <tr>\n      <th>108</th>\n      <td>KH</td>\n      <td>1.109534e+05</td>\n      <td>50829425.0</td>\n      <td>-5.071847e+07</td>\n    </tr>\n    <tr>\n      <th>172</th>\n      <td>PY</td>\n      <td>1.131823e+05</td>\n      <td>53715200.0</td>\n      <td>-5.360202e+07</td>\n    </tr>\n    <tr>\n      <th>106</th>\n      <td>KE</td>\n      <td>3.441059e+05</td>\n      <td>63650255.0</td>\n      <td>-6.330615e+07</td>\n    </tr>\n    <tr>\n      <th>161</th>\n      <td>PE</td>\n      <td>1.275406e+05</td>\n      <td>78702800.0</td>\n      <td>-7.857526e+07</td>\n    </tr>\n    <tr>\n      <th>164</th>\n      <td>PH</td>\n      <td>8.281219e+05</td>\n      <td>97045925.0</td>\n      <td>-9.621780e+07</td>\n    </tr>\n  </tbody>\n</table>\n<p>235 rows × 4 columns</p>\n</div>"
     },
     "metadata": {},
     "execution_count": 33
    }
   ],
   "source": [
    "received_lended_by_country.sort_values(by='difference',ascending=False)"
   ]
  },
  {
   "cell_type": "markdown",
   "metadata": {},
   "source": [
    "### Task 10\n",
    "Which country has the highest ratio between the difference computed at the previous point and the population?"
   ]
  },
  {
   "cell_type": "code",
   "execution_count": 34,
   "metadata": {},
   "outputs": [],
   "source": [
    "country_stats = pd.read_csv('additional-kiva-snapshot/country_stats.csv')"
   ]
  },
  {
   "cell_type": "code",
   "execution_count": 35,
   "metadata": {},
   "outputs": [
    {
     "output_type": "execute_result",
     "data": {
      "text/plain": "  country_name country_code country_code3 continent          region  \\\n0        India           IN           IND      Asia   Southern Asia   \n1      Nigeria           NG           NGA    Africa  Western Africa   \n\n   population  population_below_poverty_line       hdi  life_expectancy  \\\n0  1339180127                           21.9  0.623559           68.322   \n1   190886311                           70.0  0.527105           53.057   \n\n   expected_years_of_schooling  mean_years_of_schooling          gni  \\\n0                    11.696590                 6.298834  5663.474799   \n1                     9.970482                 6.000000  5442.901264   \n\n  kiva_country_name  \n0             India  \n1           Nigeria  ",
      "text/html": "<div>\n<style scoped>\n    .dataframe tbody tr th:only-of-type {\n        vertical-align: middle;\n    }\n\n    .dataframe tbody tr th {\n        vertical-align: top;\n    }\n\n    .dataframe thead th {\n        text-align: right;\n    }\n</style>\n<table border=\"1\" class=\"dataframe\">\n  <thead>\n    <tr style=\"text-align: right;\">\n      <th></th>\n      <th>country_name</th>\n      <th>country_code</th>\n      <th>country_code3</th>\n      <th>continent</th>\n      <th>region</th>\n      <th>population</th>\n      <th>population_below_poverty_line</th>\n      <th>hdi</th>\n      <th>life_expectancy</th>\n      <th>expected_years_of_schooling</th>\n      <th>mean_years_of_schooling</th>\n      <th>gni</th>\n      <th>kiva_country_name</th>\n    </tr>\n  </thead>\n  <tbody>\n    <tr>\n      <th>0</th>\n      <td>India</td>\n      <td>IN</td>\n      <td>IND</td>\n      <td>Asia</td>\n      <td>Southern Asia</td>\n      <td>1339180127</td>\n      <td>21.9</td>\n      <td>0.623559</td>\n      <td>68.322</td>\n      <td>11.696590</td>\n      <td>6.298834</td>\n      <td>5663.474799</td>\n      <td>India</td>\n    </tr>\n    <tr>\n      <th>1</th>\n      <td>Nigeria</td>\n      <td>NG</td>\n      <td>NGA</td>\n      <td>Africa</td>\n      <td>Western Africa</td>\n      <td>190886311</td>\n      <td>70.0</td>\n      <td>0.527105</td>\n      <td>53.057</td>\n      <td>9.970482</td>\n      <td>6.000000</td>\n      <td>5442.901264</td>\n      <td>Nigeria</td>\n    </tr>\n  </tbody>\n</table>\n</div>"
     },
     "metadata": {},
     "execution_count": 35
    }
   ],
   "source": [
    "country_stats.head(2)"
   ]
  },
  {
   "cell_type": "code",
   "execution_count": 36,
   "metadata": {},
   "outputs": [],
   "source": [
    "#Merge the received_lended_by_country table anche country_stats table by Country code\n",
    "country_ratio = pd.merge(received_lended_by_country, country_stats[['population', 'country_code']], on = 'country_code')\n",
    "#Compute the new column 'ratio'\n",
    "country_ratio['ratio'] = country_ratio['difference'] / country_ratio['population']"
   ]
  },
  {
   "cell_type": "code",
   "execution_count": 37,
   "metadata": {},
   "outputs": [
    {
     "output_type": "execute_result",
     "data": {
      "text/plain": "    country_code          lent    received    difference  population  \\\n103           MT  8.543569e+06         0.0  8.543569e+06      430835   \n114           NO  1.838847e+07         0.0  1.838847e+07     5305383   \n72            IS  9.370578e+05         0.0  9.370578e+05      335025   \n7             AU  5.893864e+07         0.0  5.893864e+07    24450561   \n24            CA  7.668173e+07     50000.0  7.663173e+07    36624199   \n..           ...           ...         ...           ...         ...   \n101           MN  9.789312e+04  14896700.0 -1.479881e+07     3075647   \n145           SV  5.314386e+04  37881675.0 -3.782853e+07     6377853   \n3             AM  9.925993e+04  20284675.0 -2.018542e+07     2930450   \n127           PY  1.131823e+05  53715200.0 -5.360202e+07     6811297   \n164           WS  9.081734e+03  11508250.0 -1.149917e+07      196440   \n\n         ratio  \n103  19.830259  \n114   3.466002  \n72    2.796979  \n7     2.410523  \n24    2.092380  \n..         ...  \n101  -4.811608  \n145  -5.931233  \n3    -6.888162  \n127  -7.869576  \n164 -58.537814  \n\n[171 rows x 6 columns]",
      "text/html": "<div>\n<style scoped>\n    .dataframe tbody tr th:only-of-type {\n        vertical-align: middle;\n    }\n\n    .dataframe tbody tr th {\n        vertical-align: top;\n    }\n\n    .dataframe thead th {\n        text-align: right;\n    }\n</style>\n<table border=\"1\" class=\"dataframe\">\n  <thead>\n    <tr style=\"text-align: right;\">\n      <th></th>\n      <th>country_code</th>\n      <th>lent</th>\n      <th>received</th>\n      <th>difference</th>\n      <th>population</th>\n      <th>ratio</th>\n    </tr>\n  </thead>\n  <tbody>\n    <tr>\n      <th>103</th>\n      <td>MT</td>\n      <td>8.543569e+06</td>\n      <td>0.0</td>\n      <td>8.543569e+06</td>\n      <td>430835</td>\n      <td>19.830259</td>\n    </tr>\n    <tr>\n      <th>114</th>\n      <td>NO</td>\n      <td>1.838847e+07</td>\n      <td>0.0</td>\n      <td>1.838847e+07</td>\n      <td>5305383</td>\n      <td>3.466002</td>\n    </tr>\n    <tr>\n      <th>72</th>\n      <td>IS</td>\n      <td>9.370578e+05</td>\n      <td>0.0</td>\n      <td>9.370578e+05</td>\n      <td>335025</td>\n      <td>2.796979</td>\n    </tr>\n    <tr>\n      <th>7</th>\n      <td>AU</td>\n      <td>5.893864e+07</td>\n      <td>0.0</td>\n      <td>5.893864e+07</td>\n      <td>24450561</td>\n      <td>2.410523</td>\n    </tr>\n    <tr>\n      <th>24</th>\n      <td>CA</td>\n      <td>7.668173e+07</td>\n      <td>50000.0</td>\n      <td>7.663173e+07</td>\n      <td>36624199</td>\n      <td>2.092380</td>\n    </tr>\n    <tr>\n      <th>...</th>\n      <td>...</td>\n      <td>...</td>\n      <td>...</td>\n      <td>...</td>\n      <td>...</td>\n      <td>...</td>\n    </tr>\n    <tr>\n      <th>101</th>\n      <td>MN</td>\n      <td>9.789312e+04</td>\n      <td>14896700.0</td>\n      <td>-1.479881e+07</td>\n      <td>3075647</td>\n      <td>-4.811608</td>\n    </tr>\n    <tr>\n      <th>145</th>\n      <td>SV</td>\n      <td>5.314386e+04</td>\n      <td>37881675.0</td>\n      <td>-3.782853e+07</td>\n      <td>6377853</td>\n      <td>-5.931233</td>\n    </tr>\n    <tr>\n      <th>3</th>\n      <td>AM</td>\n      <td>9.925993e+04</td>\n      <td>20284675.0</td>\n      <td>-2.018542e+07</td>\n      <td>2930450</td>\n      <td>-6.888162</td>\n    </tr>\n    <tr>\n      <th>127</th>\n      <td>PY</td>\n      <td>1.131823e+05</td>\n      <td>53715200.0</td>\n      <td>-5.360202e+07</td>\n      <td>6811297</td>\n      <td>-7.869576</td>\n    </tr>\n    <tr>\n      <th>164</th>\n      <td>WS</td>\n      <td>9.081734e+03</td>\n      <td>11508250.0</td>\n      <td>-1.149917e+07</td>\n      <td>196440</td>\n      <td>-58.537814</td>\n    </tr>\n  </tbody>\n</table>\n<p>171 rows × 6 columns</p>\n</div>"
     },
     "metadata": {},
     "execution_count": 37
    }
   ],
   "source": [
    "country_ratio.sort_values(by='ratio',ascending=False)"
   ]
  },
  {
   "cell_type": "markdown",
   "metadata": {},
   "source": [
    "The country with the highest ratio is Norway followed by Iceland"
   ]
  },
  {
   "cell_type": "markdown",
   "metadata": {},
   "source": [
    "### Task 11\n",
    "Which country has the highest ratio between the difference computed at point 9 and the population that is not below the poverty line?"
   ]
  },
  {
   "cell_type": "code",
   "execution_count": 38,
   "metadata": {},
   "outputs": [],
   "source": [
    "ratio_by_country = pd.merge(country_ratio, country_stats[['population_below_poverty_line', 'country_code']], on = 'country_code')\n",
    "ratio_by_country['ratio_below'] = ratio_by_country['difference'] / (ratio_by_country['population'].sub(ratio_by_country['population_below_poverty_line']))"
   ]
  },
  {
   "cell_type": "code",
   "execution_count": 39,
   "metadata": {},
   "outputs": [
    {
     "output_type": "execute_result",
     "data": {
      "text/plain": "    country_code          lent    received    difference  population  \\\n103           MT  8.543569e+06         0.0  8.543569e+06      430835   \n24            CA  7.668173e+07     50000.0  7.663173e+07    36624199   \n159           US  6.832401e+08  36365340.0  6.468748e+08   324459463   \n136           SE  1.483943e+07         0.0  1.483943e+07     9910701   \n113           NL  2.429432e+07         0.0  2.429432e+07    17035938   \n..           ...           ...         ...           ...         ...   \n133           SA  9.109979e+05         0.0  9.109979e+05    32938213   \n134           SB  6.316326e+03    806275.0 -7.999587e+05      611343   \n137           SG  2.880627e+06         0.0  2.880627e+06     5708844   \n142           SO  6.957046e+03    308725.0 -3.017680e+05    14742523   \n164           WS  9.081734e+03  11508250.0 -1.149917e+07      196440   \n\n         ratio  population_below_poverty_line  ratio_below  \n103  19.830259                           16.3    19.831009  \n24    2.092380                            9.4     2.092380  \n159   1.993700                           15.1     1.993700  \n136   1.497314                           15.0     1.497316  \n113   1.426063                            8.8     1.426064  \n..         ...                            ...          ...  \n133   0.027658                            NaN          NaN  \n134  -1.308527                            NaN          NaN  \n137   0.504590                            NaN          NaN  \n142  -0.020469                            NaN          NaN  \n164 -58.537814                            NaN          NaN  \n\n[171 rows x 8 columns]",
      "text/html": "<div>\n<style scoped>\n    .dataframe tbody tr th:only-of-type {\n        vertical-align: middle;\n    }\n\n    .dataframe tbody tr th {\n        vertical-align: top;\n    }\n\n    .dataframe thead th {\n        text-align: right;\n    }\n</style>\n<table border=\"1\" class=\"dataframe\">\n  <thead>\n    <tr style=\"text-align: right;\">\n      <th></th>\n      <th>country_code</th>\n      <th>lent</th>\n      <th>received</th>\n      <th>difference</th>\n      <th>population</th>\n      <th>ratio</th>\n      <th>population_below_poverty_line</th>\n      <th>ratio_below</th>\n    </tr>\n  </thead>\n  <tbody>\n    <tr>\n      <th>103</th>\n      <td>MT</td>\n      <td>8.543569e+06</td>\n      <td>0.0</td>\n      <td>8.543569e+06</td>\n      <td>430835</td>\n      <td>19.830259</td>\n      <td>16.3</td>\n      <td>19.831009</td>\n    </tr>\n    <tr>\n      <th>24</th>\n      <td>CA</td>\n      <td>7.668173e+07</td>\n      <td>50000.0</td>\n      <td>7.663173e+07</td>\n      <td>36624199</td>\n      <td>2.092380</td>\n      <td>9.4</td>\n      <td>2.092380</td>\n    </tr>\n    <tr>\n      <th>159</th>\n      <td>US</td>\n      <td>6.832401e+08</td>\n      <td>36365340.0</td>\n      <td>6.468748e+08</td>\n      <td>324459463</td>\n      <td>1.993700</td>\n      <td>15.1</td>\n      <td>1.993700</td>\n    </tr>\n    <tr>\n      <th>136</th>\n      <td>SE</td>\n      <td>1.483943e+07</td>\n      <td>0.0</td>\n      <td>1.483943e+07</td>\n      <td>9910701</td>\n      <td>1.497314</td>\n      <td>15.0</td>\n      <td>1.497316</td>\n    </tr>\n    <tr>\n      <th>113</th>\n      <td>NL</td>\n      <td>2.429432e+07</td>\n      <td>0.0</td>\n      <td>2.429432e+07</td>\n      <td>17035938</td>\n      <td>1.426063</td>\n      <td>8.8</td>\n      <td>1.426064</td>\n    </tr>\n    <tr>\n      <th>...</th>\n      <td>...</td>\n      <td>...</td>\n      <td>...</td>\n      <td>...</td>\n      <td>...</td>\n      <td>...</td>\n      <td>...</td>\n      <td>...</td>\n    </tr>\n    <tr>\n      <th>133</th>\n      <td>SA</td>\n      <td>9.109979e+05</td>\n      <td>0.0</td>\n      <td>9.109979e+05</td>\n      <td>32938213</td>\n      <td>0.027658</td>\n      <td>NaN</td>\n      <td>NaN</td>\n    </tr>\n    <tr>\n      <th>134</th>\n      <td>SB</td>\n      <td>6.316326e+03</td>\n      <td>806275.0</td>\n      <td>-7.999587e+05</td>\n      <td>611343</td>\n      <td>-1.308527</td>\n      <td>NaN</td>\n      <td>NaN</td>\n    </tr>\n    <tr>\n      <th>137</th>\n      <td>SG</td>\n      <td>2.880627e+06</td>\n      <td>0.0</td>\n      <td>2.880627e+06</td>\n      <td>5708844</td>\n      <td>0.504590</td>\n      <td>NaN</td>\n      <td>NaN</td>\n    </tr>\n    <tr>\n      <th>142</th>\n      <td>SO</td>\n      <td>6.957046e+03</td>\n      <td>308725.0</td>\n      <td>-3.017680e+05</td>\n      <td>14742523</td>\n      <td>-0.020469</td>\n      <td>NaN</td>\n      <td>NaN</td>\n    </tr>\n    <tr>\n      <th>164</th>\n      <td>WS</td>\n      <td>9.081734e+03</td>\n      <td>11508250.0</td>\n      <td>-1.149917e+07</td>\n      <td>196440</td>\n      <td>-58.537814</td>\n      <td>NaN</td>\n      <td>NaN</td>\n    </tr>\n  </tbody>\n</table>\n<p>171 rows × 8 columns</p>\n</div>"
     },
     "metadata": {},
     "execution_count": 39
    }
   ],
   "source": [
    "ratio_by_country.sort_values(by='ratio_below',ascending=False)"
   ]
  },
  {
   "cell_type": "markdown",
   "metadata": {},
   "source": [
    "The country with the highest ratio is Canada"
   ]
  },
  {
   "cell_type": "markdown",
   "metadata": {},
   "source": [
    "### Task 12\n",
    "For each year, compute the total amount of loans. Each loan that has planned expiration time and disburse time in different years must have its amount distributed proportionally to the number of days in each year.\n",
    "\n",
    "For example, a loan with disburse time December 1st, 2016, planned expiration time January 30th 2018, and amount 5000USD has an amount of 5000USD * 31 / (31+365+30) = 363.85 for 2016, 5000USD * 365 / (31+365+30) = 4284.04 for 2017, and 5000USD * 30 / (31+365+30) = 352.11 for 2018."
   ]
  },
  {
   "cell_type": "code",
   "execution_count": 160,
   "metadata": {},
   "outputs": [],
   "source": [
    "#Creazione del df con le variabili di interesse\n",
    "day_loans = loans[['loan_id','loan_amount','planned_expiration_time','disburse_time']]\n",
    "#Creazione della variabile differenza e degli anni exp e disburse\n",
    "day_loans['diff']=day_loans['planned_expiration_time'].dt.year-day_loans['disburse_time'].dt.year\n",
    "day_loans.sort_values(by='diff',ascending=False)\n",
    "#Eliminazione dei record con valori nulli nelle variabili di data\n",
    "day_loans = day_loans.dropna(subset=['diff'])\n",
    "day_loans = day_loans.loc[day_loans[\"planned_expiration_time\"] > day_loans[\"disburse_time\"]]"
   ]
  },
  {
   "cell_type": "code",
   "execution_count": 161,
   "metadata": {},
   "outputs": [
    {
     "output_type": "execute_result",
     "data": {
      "text/plain": "      loan_amount\nyear             \n2012  103911725.0\n2013   98427750.0\n2014  120644250.0\n2015  131208475.0\n2016  133271575.0\n2017  144870625.0\n2018      85300.0",
      "text/html": "<div>\n<style scoped>\n    .dataframe tbody tr th:only-of-type {\n        vertical-align: middle;\n    }\n\n    .dataframe tbody tr th {\n        vertical-align: top;\n    }\n\n    .dataframe thead th {\n        text-align: right;\n    }\n</style>\n<table border=\"1\" class=\"dataframe\">\n  <thead>\n    <tr style=\"text-align: right;\">\n      <th></th>\n      <th>loan_amount</th>\n    </tr>\n    <tr>\n      <th>year</th>\n      <th></th>\n    </tr>\n  </thead>\n  <tbody>\n    <tr>\n      <th>2012</th>\n      <td>103911725.0</td>\n    </tr>\n    <tr>\n      <th>2013</th>\n      <td>98427750.0</td>\n    </tr>\n    <tr>\n      <th>2014</th>\n      <td>120644250.0</td>\n    </tr>\n    <tr>\n      <th>2015</th>\n      <td>131208475.0</td>\n    </tr>\n    <tr>\n      <th>2016</th>\n      <td>133271575.0</td>\n    </tr>\n    <tr>\n      <th>2017</th>\n      <td>144870625.0</td>\n    </tr>\n    <tr>\n      <th>2018</th>\n      <td>85300.0</td>\n    </tr>\n  </tbody>\n</table>\n</div>"
     },
     "metadata": {},
     "execution_count": 161
    }
   ],
   "source": [
    "#Split into diffent df if same year between disburse and expiration\n",
    "same = day_loans[day_loans[\"disburse_time\"].dt.year == day_loans[\"planned_expiration_time\"].dt.year]\n",
    "different = day_loans[day_loans[\"disburse_time\"].dt.year != day_loans[\"planned_expiration_time\"].dt.year]\n",
    "same['year'] = same['disburse_time'].dt.year\n",
    "day_loans_same = pd.DataFrame(same.groupby('year')['loan_amount'].sum())\n",
    "day_loans_same"
   ]
  },
  {
   "cell_type": "code",
   "execution_count": 175,
   "metadata": {},
   "outputs": [],
   "source": [
    "def func(x):\n",
    "    df = x.loc[x.index.repeat(x[\"planned_expiration_time\"].dt.year - x[\"disburse_time\"].dt.year + 1)]\n",
    "    df[\"count\"] = df.groupby(\"loan_id\").cumcount()\n",
    "    df[\"count_year\"] = pd.to_datetime(df.groupby(\"loan_id\").cumcount() + df[\"disburse_time\"].dt.year, format = \"%Y\")\n",
    "    df[\"end_year\"] = df[\"disburse_time\"].dt.year.apply(lambda x: dt.datetime(x, 12, 31))\n",
    "    df[\"planned_expiration_time\"] = df[\"planned_expiration_time\"].dt.tz_localize(None)\n",
    "    df[\"disburse_time\"] = df[\"disburse_time\"].dt.tz_localize(None)\n",
    "    df = df.reset_index()\n",
    "    df.loc[df[\"count_year\"].dt.year == df[\"disburse_time\"].dt.year, \"useful_days\"] = (df[\"end_year\"] - df[\"disburse_time\"]).dt.days\n",
    "    df.loc[df[\"count_year\"].dt.year != df[\"disburse_time\"].dt.year, \"useful_days\"] = (df[\"planned_expiration_time\"] - df[\"count_year\"]).dt.days\n",
    "    df.loc[(df[\"useful_days\"] > 365) & (df[\"count_year\"].dt.is_leap_year == True), \"useful_days\"] = 366\n",
    "    df.loc[(df[\"useful_days\"] > 365) & (df[\"count_year\"].dt.is_leap_year == False), \"useful_days\"] = 365\n",
    "    days = pd.DataFrame(df.groupby(\"loan_id\")[\"useful_days\"].sum())\n",
    "    final = pd.merge(df, days, on = \"loan_id\", suffixes = (\"\",\"_tot\"))\n",
    "    final[\"true_amount\"] = final[\"loan_amount\"]*final[\"useful_days\"] / final[\"useful_days_tot\"]\n",
    "    final = pd.DataFrame(final.groupby(\"count_year\")[\"true_amount\"].sum()).reset_index()\n",
    "    final[\"count_year\"] = final[\"count_year\"].dt.year\n",
    "    return final"
   ]
  },
  {
   "cell_type": "code",
   "execution_count": 213,
   "metadata": {},
   "outputs": [],
   "source": [
    "day_loans_diff = func(different)"
   ]
  },
  {
   "cell_type": "code",
   "execution_count": 214,
   "metadata": {},
   "outputs": [
    {
     "output_type": "execute_result",
     "data": {
      "text/plain": "      amount_per_year\nYear                 \n2011         606406.0\n2012      113069487.0\n2013      123496941.0\n2014      150643338.0\n2015      155188329.0\n2016      154029554.0\n2017      165535118.0\n2018        5008377.0",
      "text/html": "<div>\n<style scoped>\n    .dataframe tbody tr th:only-of-type {\n        vertical-align: middle;\n    }\n\n    .dataframe tbody tr th {\n        vertical-align: top;\n    }\n\n    .dataframe thead th {\n        text-align: right;\n    }\n</style>\n<table border=\"1\" class=\"dataframe\">\n  <thead>\n    <tr style=\"text-align: right;\">\n      <th></th>\n      <th>amount_per_year</th>\n    </tr>\n    <tr>\n      <th>Year</th>\n      <th></th>\n    </tr>\n  </thead>\n  <tbody>\n    <tr>\n      <th>2011</th>\n      <td>606406.0</td>\n    </tr>\n    <tr>\n      <th>2012</th>\n      <td>113069487.0</td>\n    </tr>\n    <tr>\n      <th>2013</th>\n      <td>123496941.0</td>\n    </tr>\n    <tr>\n      <th>2014</th>\n      <td>150643338.0</td>\n    </tr>\n    <tr>\n      <th>2015</th>\n      <td>155188329.0</td>\n    </tr>\n    <tr>\n      <th>2016</th>\n      <td>154029554.0</td>\n    </tr>\n    <tr>\n      <th>2017</th>\n      <td>165535118.0</td>\n    </tr>\n    <tr>\n      <th>2018</th>\n      <td>5008377.0</td>\n    </tr>\n  </tbody>\n</table>\n</div>"
     },
     "metadata": {},
     "execution_count": 214
    }
   ],
   "source": [
    "final = pd.merge(day_loans_diff,day_loans_same, left_on = \"count_year\", right_on=\"year\",how='outer')\n",
    "final= final.fillna(0)\n",
    "final[\"amount_per_year\"] = final[\"true_amount\"] + final[\"loan_amount\"]\n",
    "final = final.drop(['true_amount',\"loan_amount\"],axis=1)\n",
    "final = final.rename(columns={'count_year':'Year'})\n",
    "final = final.set_index('Year')\n",
    "final.round()"
   ]
  },
  {
   "cell_type": "code",
   "execution_count": null,
   "metadata": {},
   "outputs": [],
   "source": []
  }
 ],
 "metadata": {
  "kernelspec": {
   "display_name": "Python 3",
   "language": "python",
   "name": "python3"
  },
  "language_info": {
   "codemirror_mode": {
    "name": "ipython",
    "version": 3
   },
   "file_extension": ".py",
   "mimetype": "text/x-python",
   "name": "python",
   "nbconvert_exporter": "python",
   "pygments_lexer": "ipython3",
   "version": "3.7.6-final"
  }
 },
 "nbformat": 4,
 "nbformat_minor": 2
}